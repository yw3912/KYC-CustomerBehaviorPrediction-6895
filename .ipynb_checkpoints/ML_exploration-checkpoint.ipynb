{
 "cells": [
  {
   "cell_type": "code",
   "execution_count": 1,
   "id": "b2946c6c",
   "metadata": {},
   "outputs": [
    {
     "name": "stderr",
     "output_type": "stream",
     "text": [
      "/Users/clarencestudy/opt/anaconda3/lib/python3.8/site-packages/scipy/__init__.py:146: UserWarning: A NumPy version >=1.16.5 and <1.23.0 is required for this version of SciPy (detected version 1.23.3\n",
      "  warnings.warn(f\"A NumPy version >={np_minversion} and <{np_maxversion}\"\n"
     ]
    }
   ],
   "source": [
    "import pandas as pd \n",
    "from sklearn.model_selection import train_test_split\n",
    "from sklearn.linear_model import LinearRegression\n",
    "from sklearn.metrics import r2_score, mean_squared_error\n",
    "import matplotlib.pyplot as plt\n",
    "import numpy as np\n",
    "from sklearn.tree import DecisionTreeRegressor "
   ]
  },
  {
   "cell_type": "code",
   "execution_count": 2,
   "id": "b2a5ecb0",
   "metadata": {},
   "outputs": [
    {
     "data": {
      "text/html": [
       "<div>\n",
       "<style scoped>\n",
       "    .dataframe tbody tr th:only-of-type {\n",
       "        vertical-align: middle;\n",
       "    }\n",
       "\n",
       "    .dataframe tbody tr th {\n",
       "        vertical-align: top;\n",
       "    }\n",
       "\n",
       "    .dataframe thead th {\n",
       "        text-align: right;\n",
       "    }\n",
       "</style>\n",
       "<table border=\"1\" class=\"dataframe\">\n",
       "  <thead>\n",
       "    <tr style=\"text-align: right;\">\n",
       "      <th></th>\n",
       "      <th>review_length</th>\n",
       "      <th>number_of_keywords</th>\n",
       "      <th>word_diversity</th>\n",
       "      <th>word_complexity</th>\n",
       "      <th>has_image</th>\n",
       "      <th>has_emoji</th>\n",
       "      <th>timing</th>\n",
       "      <th>count_helpful</th>\n",
       "      <th>creativity</th>\n",
       "    </tr>\n",
       "  </thead>\n",
       "  <tbody>\n",
       "    <tr>\n",
       "      <th>0</th>\n",
       "      <td>279</td>\n",
       "      <td>145</td>\n",
       "      <td>60.161175</td>\n",
       "      <td>7.7</td>\n",
       "      <td>0</td>\n",
       "      <td>0</td>\n",
       "      <td>633</td>\n",
       "      <td>3</td>\n",
       "      <td>72.495699</td>\n",
       "    </tr>\n",
       "    <tr>\n",
       "      <th>1</th>\n",
       "      <td>85</td>\n",
       "      <td>37</td>\n",
       "      <td>62.242682</td>\n",
       "      <td>7.5</td>\n",
       "      <td>1</td>\n",
       "      <td>0</td>\n",
       "      <td>666</td>\n",
       "      <td>0</td>\n",
       "      <td>66.882998</td>\n",
       "    </tr>\n",
       "    <tr>\n",
       "      <th>2</th>\n",
       "      <td>101</td>\n",
       "      <td>46</td>\n",
       "      <td>46.116319</td>\n",
       "      <td>11.4</td>\n",
       "      <td>0</td>\n",
       "      <td>0</td>\n",
       "      <td>652</td>\n",
       "      <td>2</td>\n",
       "      <td>70.648072</td>\n",
       "    </tr>\n",
       "    <tr>\n",
       "      <th>3</th>\n",
       "      <td>52</td>\n",
       "      <td>25</td>\n",
       "      <td>84.124444</td>\n",
       "      <td>11.3</td>\n",
       "      <td>0</td>\n",
       "      <td>0</td>\n",
       "      <td>672</td>\n",
       "      <td>0</td>\n",
       "      <td>52.908236</td>\n",
       "    </tr>\n",
       "    <tr>\n",
       "      <th>4</th>\n",
       "      <td>66</td>\n",
       "      <td>34</td>\n",
       "      <td>66.000000</td>\n",
       "      <td>5.4</td>\n",
       "      <td>0</td>\n",
       "      <td>0</td>\n",
       "      <td>659</td>\n",
       "      <td>0</td>\n",
       "      <td>68.367608</td>\n",
       "    </tr>\n",
       "    <tr>\n",
       "      <th>...</th>\n",
       "      <td>...</td>\n",
       "      <td>...</td>\n",
       "      <td>...</td>\n",
       "      <td>...</td>\n",
       "      <td>...</td>\n",
       "      <td>...</td>\n",
       "      <td>...</td>\n",
       "      <td>...</td>\n",
       "      <td>...</td>\n",
       "    </tr>\n",
       "    <tr>\n",
       "      <th>983</th>\n",
       "      <td>15</td>\n",
       "      <td>14</td>\n",
       "      <td>63.000000</td>\n",
       "      <td>10.9</td>\n",
       "      <td>0</td>\n",
       "      <td>0</td>\n",
       "      <td>1314</td>\n",
       "      <td>2</td>\n",
       "      <td>NaN</td>\n",
       "    </tr>\n",
       "    <tr>\n",
       "      <th>984</th>\n",
       "      <td>20</td>\n",
       "      <td>10</td>\n",
       "      <td>112.000000</td>\n",
       "      <td>0.8</td>\n",
       "      <td>0</td>\n",
       "      <td>1</td>\n",
       "      <td>1361</td>\n",
       "      <td>8</td>\n",
       "      <td>58.364846</td>\n",
       "    </tr>\n",
       "    <tr>\n",
       "      <th>985</th>\n",
       "      <td>27</td>\n",
       "      <td>13</td>\n",
       "      <td>40.824000</td>\n",
       "      <td>-0.3</td>\n",
       "      <td>0</td>\n",
       "      <td>1</td>\n",
       "      <td>1268</td>\n",
       "      <td>1</td>\n",
       "      <td>72.521003</td>\n",
       "    </tr>\n",
       "    <tr>\n",
       "      <th>986</th>\n",
       "      <td>11</td>\n",
       "      <td>7</td>\n",
       "      <td>33.880000</td>\n",
       "      <td>1.2</td>\n",
       "      <td>0</td>\n",
       "      <td>0</td>\n",
       "      <td>1489</td>\n",
       "      <td>7</td>\n",
       "      <td>NaN</td>\n",
       "    </tr>\n",
       "    <tr>\n",
       "      <th>987</th>\n",
       "      <td>16</td>\n",
       "      <td>9</td>\n",
       "      <td>35.840000</td>\n",
       "      <td>3.5</td>\n",
       "      <td>0</td>\n",
       "      <td>0</td>\n",
       "      <td>1403</td>\n",
       "      <td>4</td>\n",
       "      <td>52.255542</td>\n",
       "    </tr>\n",
       "  </tbody>\n",
       "</table>\n",
       "<p>988 rows × 9 columns</p>\n",
       "</div>"
      ],
      "text/plain": [
       "     review_length  number_of_keywords  word_diversity  word_complexity  \\\n",
       "0              279                 145       60.161175              7.7   \n",
       "1               85                  37       62.242682              7.5   \n",
       "2              101                  46       46.116319             11.4   \n",
       "3               52                  25       84.124444             11.3   \n",
       "4               66                  34       66.000000              5.4   \n",
       "..             ...                 ...             ...              ...   \n",
       "983             15                  14       63.000000             10.9   \n",
       "984             20                  10      112.000000              0.8   \n",
       "985             27                  13       40.824000             -0.3   \n",
       "986             11                   7       33.880000              1.2   \n",
       "987             16                   9       35.840000              3.5   \n",
       "\n",
       "     has_image  has_emoji  timing  count_helpful  creativity  \n",
       "0            0          0     633              3   72.495699  \n",
       "1            1          0     666              0   66.882998  \n",
       "2            0          0     652              2   70.648072  \n",
       "3            0          0     672              0   52.908236  \n",
       "4            0          0     659              0   68.367608  \n",
       "..         ...        ...     ...            ...         ...  \n",
       "983          0          0    1314              2         NaN  \n",
       "984          0          1    1361              8   58.364846  \n",
       "985          0          1    1268              1   72.521003  \n",
       "986          0          0    1489              7         NaN  \n",
       "987          0          0    1403              4   52.255542  \n",
       "\n",
       "[988 rows x 9 columns]"
      ]
     },
     "execution_count": 2,
     "metadata": {},
     "output_type": "execute_result"
    }
   ],
   "source": [
    "# Read in the csv file as a pandas dataframe\n",
    "df = pd.read_csv(\"customer_behavior_prediction_dataframe.csv\")\n",
    "df"
   ]
  },
  {
   "cell_type": "code",
   "execution_count": 3,
   "id": "e9c5ecf7",
   "metadata": {},
   "outputs": [
    {
     "data": {
      "text/plain": [
       "review_length         False\n",
       "number_of_keywords    False\n",
       "word_diversity        False\n",
       "word_complexity       False\n",
       "has_image             False\n",
       "has_emoji             False\n",
       "timing                False\n",
       "count_helpful         False\n",
       "creativity             True\n",
       "dtype: bool"
      ]
     },
     "execution_count": 3,
     "metadata": {},
     "output_type": "execute_result"
    }
   ],
   "source": [
    "# Check if there is any NaN, only our target variable has some NA values. This is caused by the fact that \n",
    "# we are using the key word list to calculat the divergent thinking score. There is a chance that there is \n",
    "# only one keyword, which gives an empty result. \n",
    "df.isna().any()"
   ]
  },
  {
   "cell_type": "code",
   "execution_count": 6,
   "id": "034c12ea",
   "metadata": {},
   "outputs": [
    {
     "name": "stdout",
     "output_type": "stream",
     "text": [
      "252\n"
     ]
    },
    {
     "data": {
      "text/plain": [
       "0.2550607287449393"
      ]
     },
     "execution_count": 6,
     "metadata": {},
     "output_type": "execute_result"
    }
   ],
   "source": [
    "# This counts for about 1/4 of the data, I need more data\n",
    "nan_count = df[\"creativity\"].isna().sum()\n",
    "print(nan_count)\n",
    "nan_count/df.shape[0]"
   ]
  },
  {
   "cell_type": "code",
   "execution_count": null,
   "id": "3a810b11",
   "metadata": {},
   "outputs": [],
   "source": [
    "# The min of the creativity measure, divergent thinking score, is 36.18\n",
    "min_creativity = df[\"creativity\"].min(skipna=True)\n",
    "min_creativity"
   ]
  },
  {
   "cell_type": "code",
   "execution_count": null,
   "id": "8cf79160",
   "metadata": {},
   "outputs": [],
   "source": [
    "sd_creativity = df[\"creativity\"].std(skipna=True)\n",
    "sd_creativity"
   ]
  },
  {
   "cell_type": "code",
   "execution_count": null,
   "id": "1536383c",
   "metadata": {},
   "outputs": [],
   "source": [
    "# Fillin the NA with the value even less than the 36.18, this would also sort of serve as a hyperparameter\n",
    "df[\"creativity\"] = df[\"creativity\"].fillna(min_creativity-sd_creativity)\n",
    "df"
   ]
  },
  {
   "cell_type": "code",
   "execution_count": null,
   "id": "27bc0a3a",
   "metadata": {},
   "outputs": [],
   "source": [
    "df.isna().any()"
   ]
  },
  {
   "cell_type": "code",
   "execution_count": null,
   "id": "2f47ce5b",
   "metadata": {},
   "outputs": [],
   "source": [
    "plt.hist(df[\"review_length\"], bins=np.arange(0,500,50))\n",
    "plt.gca().set(title='The length of the review Histogram', xlabel=\"review length\", ylabel='Frequency')\n",
    "plt.show()"
   ]
  },
  {
   "cell_type": "code",
   "execution_count": null,
   "id": "2ce9c4f0",
   "metadata": {},
   "outputs": [],
   "source": [
    "X = df.iloc[:, :-1]  \n",
    "y = df.iloc[:, -1]   \n",
    "x_dev, x_test, y_dev, y_test = train_test_split(X, y, test_size=0.2, random_state=0)\n",
    "x_train, x_val, y_train, y_val = train_test_split(x_dev, y_dev, test_size=0.25, random_state=0)"
   ]
  },
  {
   "cell_type": "code",
   "execution_count": null,
   "id": "3ccbe502",
   "metadata": {},
   "outputs": [],
   "source": []
  },
  {
   "cell_type": "code",
   "execution_count": null,
   "id": "42ccbc61",
   "metadata": {},
   "outputs": [],
   "source": [
    "lr = LinearRegression()\n",
    "lr.fit(x_train, y_train)"
   ]
  },
  {
   "cell_type": "code",
   "execution_count": null,
   "id": "a4d0ce6c",
   "metadata": {},
   "outputs": [],
   "source": [
    "y_val_pred = lr.predict(x_val)\n",
    "y_test_pred = lr.predict(x_test)\n",
    "\n",
    "# calculate the accuracy of the model on the validation and test sets\n",
    "val_accuracy_r2 = r2_score(y_val, y_val_pred)\n",
    "test_accuracy_r2 = r2_score(y_test, y_test_pred)\n",
    "\n",
    "val_accuracy_mse = mean_squared_error(y_val, y_val_pred)\n",
    "test_accuracy_mse = mean_squared_error(y_test, y_test_pred)\n",
    "\n",
    "# print the accuracy of the model on the validation and test sets\n",
    "print('r2 Validation accuracy:', val_accuracy_r2)\n",
    "print('r2 Test accuracy:', test_accuracy_r2)\n",
    "print('mse Validation accuracy:', val_accuracy_mse)\n",
    "print('mse Test accuracy:', test_accuracy_mse)"
   ]
  },
  {
   "cell_type": "code",
   "execution_count": null,
   "id": "ca36f940",
   "metadata": {},
   "outputs": [],
   "source": [
    "# Plot the relationship between each variable with label \n",
    "fig, axs = plt.subplots(4,2, figsize = (20,20))\n",
    "axs[0,0].scatter(df[\"review_length\"], y)\n",
    "axs[0,0].set_title(\"Length of the Review VS. Creativity\")\n",
    "axs[0,0].set_xlabel(\"Review Length\")\n",
    "axs[0,0].set_ylabel(\"Creativity\")\n",
    "\n",
    "axs[0,1].scatter(df[\"number_of_keywords\"], y)\n",
    "axs[0,1].set_title(\"No. keywords VS. Creativity\")\n",
    "axs[0,1].set_xlabel(\"No. keywords\")\n",
    "axs[0,1].set_ylabel(\"Creativity\")\n",
    "\n",
    "axs[1,0].scatter(df[\"word_diversity\"], y)\n",
    "axs[1,0].set_title(\"Word diversity VS. Creativity\")\n",
    "axs[1,0].set_xlabel(\"Word diversity\")\n",
    "axs[1,0].set_ylabel(\"Creativity\")\n",
    "\n",
    "axs[1,1].scatter(df[\"word_complexity\"], y)\n",
    "axs[1,1].set_title(\"Word complexity VS. Creativity\")\n",
    "axs[1,1].set_xlabel(\"Word complexity\")\n",
    "axs[1,1].set_ylabel(\"Creativity\")\n",
    "\n",
    "axs[2,0].scatter(df[\"has_image\"], y)\n",
    "axs[2,0].set_title(\"Has image VS. Creativity\")\n",
    "axs[2,0].set_xlabel(\"Has image\")\n",
    "axs[2,0].set_ylabel(\"Creativity\")\n",
    "\n",
    "axs[2,1].scatter(df[\"has_emoji\"], y)\n",
    "axs[2,1].set_title(\"Has emoji VS. Creativity\")\n",
    "axs[2,1].set_xlabel(\"Has emoji\")\n",
    "axs[2,1].set_ylabel(\"Creativity\")\n",
    "\n",
    "axs[3,0].scatter(df[\"timing\"], y)\n",
    "axs[3,0].set_title(\"Timing VS. Creativity\")\n",
    "axs[3,0].set_xlabel(\"timing\")\n",
    "axs[3,0].set_ylabel(\"Creativity\")\n",
    "\n",
    "axs[3,1].scatter(df[\"count_helpful\"], y)\n",
    "axs[3,1].set_title(\"No. helpful VS. Creativity\")\n",
    "axs[3,1].set_xlabel(\"No. helpful\")\n",
    "axs[3,1].set_ylabel(\"Creativity\")\n",
    "\n",
    "\n",
    "plt.show()"
   ]
  },
  {
   "cell_type": "code",
   "execution_count": null,
   "id": "09c6fa3c",
   "metadata": {},
   "outputs": [],
   "source": [
    "# Try the Decision tree Regressor \n",
    "regressor = DecisionTreeRegressor()\n",
    "regressor.fit(x_train, y_train)\n",
    "\n",
    "y_val_pred2 = regressor.predict(x_val)\n",
    "y_test_pred2 = regressor.predict(x_test)\n",
    "\n",
    "# calculate the accuracy of the model on the validation and test sets\n",
    "val_accuracy_r2_tree = r2_score(y_val, y_val_pred2)\n",
    "test_accuracy_r2_tree = r2_score(y_test, y_test_pred2)\n",
    "\n",
    "val_accuracy_mse_tree = mean_squared_error(y_val, y_val_pred2)\n",
    "test_accuracy_mse_tree = mean_squared_error(y_test, y_test_pred2)\n",
    "\n",
    "# print the accuracy of the model on the validation and test sets\n",
    "print('r2 Validation accuracy:', val_accuracy_r2_tree)\n",
    "print('r2 Test accuracy:', test_accuracy_r2_tree)\n",
    "print('mse Validation accuracy:', val_accuracy_mse_tree)\n",
    "print('mse Test accuracy:', test_accuracy_mse_tree)"
   ]
  },
  {
   "cell_type": "code",
   "execution_count": null,
   "id": "4385dde0",
   "metadata": {},
   "outputs": [],
   "source": []
  }
 ],
 "metadata": {
  "kernelspec": {
   "display_name": "Python 3",
   "language": "python",
   "name": "python3"
  },
  "language_info": {
   "codemirror_mode": {
    "name": "ipython",
    "version": 3
   },
   "file_extension": ".py",
   "mimetype": "text/x-python",
   "name": "python",
   "nbconvert_exporter": "python",
   "pygments_lexer": "ipython3",
   "version": "3.8.8"
  }
 },
 "nbformat": 4,
 "nbformat_minor": 5
}
