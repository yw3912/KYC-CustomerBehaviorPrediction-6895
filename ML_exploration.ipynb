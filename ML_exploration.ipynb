{
 "cells": [
  {
   "cell_type": "code",
   "execution_count": 1,
   "id": "b2946c6c",
   "metadata": {},
   "outputs": [
    {
     "name": "stderr",
     "output_type": "stream",
     "text": [
      "/Users/clarencestudy/opt/anaconda3/lib/python3.8/site-packages/scipy/__init__.py:146: UserWarning: A NumPy version >=1.16.5 and <1.23.0 is required for this version of SciPy (detected version 1.23.3\n",
      "  warnings.warn(f\"A NumPy version >={np_minversion} and <{np_maxversion}\"\n"
     ]
    }
   ],
   "source": [
    "import pandas as pd \n",
    "from sklearn.model_selection import train_test_split\n",
    "from sklearn.linear_model import LinearRegression\n",
    "from sklearn.metrics import r2_score, mean_squared_error\n",
    "import matplotlib.pyplot as plt\n",
    "import numpy as np\n",
    "from sklearn.tree import DecisionTreeRegressor \n",
    "from sklearn.preprocessing import StandardScaler, MinMaxScaler\n",
    "import seaborn as sns\n",
    "from sklearn.ensemble import RandomForestRegressor, GradientBoostingRegressor, HistGradientBoostingRegressor\n",
    "from sklearn.model_selection import cross_val_score"
   ]
  },
  {
   "cell_type": "code",
   "execution_count": 2,
   "id": "b2a5ecb0",
   "metadata": {},
   "outputs": [
    {
     "data": {
      "text/html": [
       "<div>\n",
       "<style scoped>\n",
       "    .dataframe tbody tr th:only-of-type {\n",
       "        vertical-align: middle;\n",
       "    }\n",
       "\n",
       "    .dataframe tbody tr th {\n",
       "        vertical-align: top;\n",
       "    }\n",
       "\n",
       "    .dataframe thead th {\n",
       "        text-align: right;\n",
       "    }\n",
       "</style>\n",
       "<table border=\"1\" class=\"dataframe\">\n",
       "  <thead>\n",
       "    <tr style=\"text-align: right;\">\n",
       "      <th></th>\n",
       "      <th>review_length</th>\n",
       "      <th>number_of_keywords</th>\n",
       "      <th>word_diversity</th>\n",
       "      <th>word_complexity</th>\n",
       "      <th>has_image</th>\n",
       "      <th>has_emoji</th>\n",
       "      <th>timing</th>\n",
       "      <th>count_helpful</th>\n",
       "      <th>creativity</th>\n",
       "    </tr>\n",
       "  </thead>\n",
       "  <tbody>\n",
       "    <tr>\n",
       "      <th>0</th>\n",
       "      <td>279</td>\n",
       "      <td>145</td>\n",
       "      <td>60.161175</td>\n",
       "      <td>7.7</td>\n",
       "      <td>0</td>\n",
       "      <td>0</td>\n",
       "      <td>633</td>\n",
       "      <td>3</td>\n",
       "      <td>72.495699</td>\n",
       "    </tr>\n",
       "    <tr>\n",
       "      <th>1</th>\n",
       "      <td>85</td>\n",
       "      <td>37</td>\n",
       "      <td>62.242682</td>\n",
       "      <td>7.5</td>\n",
       "      <td>1</td>\n",
       "      <td>0</td>\n",
       "      <td>666</td>\n",
       "      <td>0</td>\n",
       "      <td>66.882998</td>\n",
       "    </tr>\n",
       "    <tr>\n",
       "      <th>2</th>\n",
       "      <td>101</td>\n",
       "      <td>46</td>\n",
       "      <td>46.116319</td>\n",
       "      <td>11.4</td>\n",
       "      <td>0</td>\n",
       "      <td>0</td>\n",
       "      <td>652</td>\n",
       "      <td>2</td>\n",
       "      <td>70.648072</td>\n",
       "    </tr>\n",
       "    <tr>\n",
       "      <th>3</th>\n",
       "      <td>52</td>\n",
       "      <td>25</td>\n",
       "      <td>84.124444</td>\n",
       "      <td>11.3</td>\n",
       "      <td>0</td>\n",
       "      <td>0</td>\n",
       "      <td>672</td>\n",
       "      <td>0</td>\n",
       "      <td>52.908236</td>\n",
       "    </tr>\n",
       "    <tr>\n",
       "      <th>4</th>\n",
       "      <td>66</td>\n",
       "      <td>34</td>\n",
       "      <td>66.000000</td>\n",
       "      <td>5.4</td>\n",
       "      <td>0</td>\n",
       "      <td>0</td>\n",
       "      <td>659</td>\n",
       "      <td>0</td>\n",
       "      <td>68.367608</td>\n",
       "    </tr>\n",
       "    <tr>\n",
       "      <th>...</th>\n",
       "      <td>...</td>\n",
       "      <td>...</td>\n",
       "      <td>...</td>\n",
       "      <td>...</td>\n",
       "      <td>...</td>\n",
       "      <td>...</td>\n",
       "      <td>...</td>\n",
       "      <td>...</td>\n",
       "      <td>...</td>\n",
       "    </tr>\n",
       "    <tr>\n",
       "      <th>1321</th>\n",
       "      <td>7</td>\n",
       "      <td>5</td>\n",
       "      <td>0.000000</td>\n",
       "      <td>2.3</td>\n",
       "      <td>0</td>\n",
       "      <td>0</td>\n",
       "      <td>391</td>\n",
       "      <td>0</td>\n",
       "      <td>NaN</td>\n",
       "    </tr>\n",
       "    <tr>\n",
       "      <th>1322</th>\n",
       "      <td>68</td>\n",
       "      <td>38</td>\n",
       "      <td>76.160000</td>\n",
       "      <td>4.0</td>\n",
       "      <td>1</td>\n",
       "      <td>0</td>\n",
       "      <td>96</td>\n",
       "      <td>36</td>\n",
       "      <td>68.169552</td>\n",
       "    </tr>\n",
       "    <tr>\n",
       "      <th>1323</th>\n",
       "      <td>5</td>\n",
       "      <td>5</td>\n",
       "      <td>7.000000</td>\n",
       "      <td>11.2</td>\n",
       "      <td>0</td>\n",
       "      <td>0</td>\n",
       "      <td>394</td>\n",
       "      <td>0</td>\n",
       "      <td>NaN</td>\n",
       "    </tr>\n",
       "    <tr>\n",
       "      <th>1324</th>\n",
       "      <td>43</td>\n",
       "      <td>23</td>\n",
       "      <td>43.000000</td>\n",
       "      <td>7.3</td>\n",
       "      <td>0</td>\n",
       "      <td>0</td>\n",
       "      <td>207</td>\n",
       "      <td>1</td>\n",
       "      <td>64.520857</td>\n",
       "    </tr>\n",
       "    <tr>\n",
       "      <th>1325</th>\n",
       "      <td>5</td>\n",
       "      <td>4</td>\n",
       "      <td>0.000000</td>\n",
       "      <td>7.4</td>\n",
       "      <td>0</td>\n",
       "      <td>0</td>\n",
       "      <td>388</td>\n",
       "      <td>0</td>\n",
       "      <td>NaN</td>\n",
       "    </tr>\n",
       "  </tbody>\n",
       "</table>\n",
       "<p>1326 rows × 9 columns</p>\n",
       "</div>"
      ],
      "text/plain": [
       "      review_length  number_of_keywords  word_diversity  word_complexity  \\\n",
       "0               279                 145       60.161175              7.7   \n",
       "1                85                  37       62.242682              7.5   \n",
       "2               101                  46       46.116319             11.4   \n",
       "3                52                  25       84.124444             11.3   \n",
       "4                66                  34       66.000000              5.4   \n",
       "...             ...                 ...             ...              ...   \n",
       "1321              7                   5        0.000000              2.3   \n",
       "1322             68                  38       76.160000              4.0   \n",
       "1323              5                   5        7.000000             11.2   \n",
       "1324             43                  23       43.000000              7.3   \n",
       "1325              5                   4        0.000000              7.4   \n",
       "\n",
       "      has_image  has_emoji  timing  count_helpful  creativity  \n",
       "0             0          0     633              3   72.495699  \n",
       "1             1          0     666              0   66.882998  \n",
       "2             0          0     652              2   70.648072  \n",
       "3             0          0     672              0   52.908236  \n",
       "4             0          0     659              0   68.367608  \n",
       "...         ...        ...     ...            ...         ...  \n",
       "1321          0          0     391              0         NaN  \n",
       "1322          1          0      96             36   68.169552  \n",
       "1323          0          0     394              0         NaN  \n",
       "1324          0          0     207              1   64.520857  \n",
       "1325          0          0     388              0         NaN  \n",
       "\n",
       "[1326 rows x 9 columns]"
      ]
     },
     "execution_count": 2,
     "metadata": {},
     "output_type": "execute_result"
    }
   ],
   "source": [
    "# Read in the csv file as a pandas dataframe\n",
    "df = pd.read_csv(\"customer_behavior_prediction_dataframe.csv\")\n",
    "\"\"\"\n",
    "There are 2 features that serve more like categorical feature \n",
    "dropping them is not going to signficantly increase the accuracy\n",
    "\"\"\"\n",
    "# df = df.drop(columns = [\"has_image\", \"has_emoji\"]) \n",
    "df"
   ]
  },
  {
   "cell_type": "code",
   "execution_count": 3,
   "id": "e9c5ecf7",
   "metadata": {},
   "outputs": [
    {
     "data": {
      "text/plain": [
       "review_length         False\n",
       "number_of_keywords    False\n",
       "word_diversity        False\n",
       "word_complexity       False\n",
       "has_image             False\n",
       "has_emoji             False\n",
       "timing                False\n",
       "count_helpful         False\n",
       "creativity             True\n",
       "dtype: bool"
      ]
     },
     "execution_count": 3,
     "metadata": {},
     "output_type": "execute_result"
    }
   ],
   "source": [
    "# Check if there is any NaN, only our target variable has some NA values. This is caused by the fact that \n",
    "# we are using the key word list to calculat the divergent thinking score. There is a chance that there is \n",
    "# only one keyword, which gives an empty result. \n",
    "df.isna().any()"
   ]
  },
  {
   "cell_type": "code",
   "execution_count": 4,
   "id": "034c12ea",
   "metadata": {},
   "outputs": [
    {
     "name": "stdout",
     "output_type": "stream",
     "text": [
      "The number of NaN value in the target feature is 388\n",
      "It takes about this proportion: 0.29260935143288086\n"
     ]
    }
   ],
   "source": [
    "# Have around 1000 valid data \n",
    "nan_count = df[\"creativity\"].isna().sum()\n",
    "print(f\"The number of NaN value in the target feature is {nan_count}\")\n",
    "print(f\"It takes about this proportion: {nan_count/df.shape[0]}\")"
   ]
  },
  {
   "cell_type": "markdown",
   "id": "2f7bb590",
   "metadata": {},
   "source": [
    "<font size=\"10\">Show distribution of some features </font>"
   ]
  },
  {
   "cell_type": "code",
   "execution_count": 5,
   "id": "2f47ce5b",
   "metadata": {},
   "outputs": [
    {
     "data": {
      "image/png": "[encoded data removed]",
      "text/plain": [
       "<Figure size 432x288 with 1 Axes>"
      ]
     },
     "metadata": {
      "needs_background": "light"
     },
     "output_type": "display_data"
    }
   ],
   "source": [
    "plt.hist(df[\"review_length\"], bins=np.arange(0,500,50))\n",
    "plt.gca().set(title='The length of the review Histogram', xlabel=\"review length\", ylabel='Frequency')\n",
    "plt.show()"
   ]
  },
  {
   "cell_type": "markdown",
   "id": "5cc410a7",
   "metadata": {},
   "source": [
    "<font size = \"10\">Data Preprocessing and Cleaning Step</font>\n",
    "1. How to deal with missing value: \n",
    "    1. Remove rows that do not have a ground truth creativity \n",
    "    2. Replace with mean \n",
    "    3. Replace with min-value - standard deviation\n",
    "2. Train test split for the 3 different versions of data\n",
    "3. Scaling \n",
    "    1. Standard Scaler \n",
    "    2. Min Max Scaler\n",
    "4. Add a column of ones "
   ]
  },
  {
   "cell_type": "code",
   "execution_count": 6,
   "id": "9fa9cf95",
   "metadata": {},
   "outputs": [
    {
     "data": {
      "text/html": [
       "<div>\n",
       "<style scoped>\n",
       "    .dataframe tbody tr th:only-of-type {\n",
       "        vertical-align: middle;\n",
       "    }\n",
       "\n",
       "    .dataframe tbody tr th {\n",
       "        vertical-align: top;\n",
       "    }\n",
       "\n",
       "    .dataframe thead th {\n",
       "        text-align: right;\n",
       "    }\n",
       "</style>\n",
       "<table border=\"1\" class=\"dataframe\">\n",
       "  <thead>\n",
       "    <tr style=\"text-align: right;\">\n",
       "      <th></th>\n",
       "      <th>review_length</th>\n",
       "      <th>number_of_keywords</th>\n",
       "      <th>word_diversity</th>\n",
       "      <th>word_complexity</th>\n",
       "      <th>has_image</th>\n",
       "      <th>has_emoji</th>\n",
       "      <th>timing</th>\n",
       "      <th>count_helpful</th>\n",
       "      <th>creativity</th>\n",
       "    </tr>\n",
       "  </thead>\n",
       "  <tbody>\n",
       "    <tr>\n",
       "      <th>0</th>\n",
       "      <td>279</td>\n",
       "      <td>145</td>\n",
       "      <td>60.161175</td>\n",
       "      <td>7.7</td>\n",
       "      <td>0</td>\n",
       "      <td>0</td>\n",
       "      <td>633</td>\n",
       "      <td>3</td>\n",
       "      <td>72.495699</td>\n",
       "    </tr>\n",
       "    <tr>\n",
       "      <th>1</th>\n",
       "      <td>85</td>\n",
       "      <td>37</td>\n",
       "      <td>62.242682</td>\n",
       "      <td>7.5</td>\n",
       "      <td>1</td>\n",
       "      <td>0</td>\n",
       "      <td>666</td>\n",
       "      <td>0</td>\n",
       "      <td>66.882998</td>\n",
       "    </tr>\n",
       "    <tr>\n",
       "      <th>2</th>\n",
       "      <td>101</td>\n",
       "      <td>46</td>\n",
       "      <td>46.116319</td>\n",
       "      <td>11.4</td>\n",
       "      <td>0</td>\n",
       "      <td>0</td>\n",
       "      <td>652</td>\n",
       "      <td>2</td>\n",
       "      <td>70.648072</td>\n",
       "    </tr>\n",
       "    <tr>\n",
       "      <th>3</th>\n",
       "      <td>52</td>\n",
       "      <td>25</td>\n",
       "      <td>84.124444</td>\n",
       "      <td>11.3</td>\n",
       "      <td>0</td>\n",
       "      <td>0</td>\n",
       "      <td>672</td>\n",
       "      <td>0</td>\n",
       "      <td>52.908236</td>\n",
       "    </tr>\n",
       "    <tr>\n",
       "      <th>4</th>\n",
       "      <td>66</td>\n",
       "      <td>34</td>\n",
       "      <td>66.000000</td>\n",
       "      <td>5.4</td>\n",
       "      <td>0</td>\n",
       "      <td>0</td>\n",
       "      <td>659</td>\n",
       "      <td>0</td>\n",
       "      <td>68.367608</td>\n",
       "    </tr>\n",
       "    <tr>\n",
       "      <th>...</th>\n",
       "      <td>...</td>\n",
       "      <td>...</td>\n",
       "      <td>...</td>\n",
       "      <td>...</td>\n",
       "      <td>...</td>\n",
       "      <td>...</td>\n",
       "      <td>...</td>\n",
       "      <td>...</td>\n",
       "      <td>...</td>\n",
       "    </tr>\n",
       "    <tr>\n",
       "      <th>1318</th>\n",
       "      <td>135</td>\n",
       "      <td>70</td>\n",
       "      <td>66.010554</td>\n",
       "      <td>7.6</td>\n",
       "      <td>0</td>\n",
       "      <td>0</td>\n",
       "      <td>162</td>\n",
       "      <td>7</td>\n",
       "      <td>55.252269</td>\n",
       "    </tr>\n",
       "    <tr>\n",
       "      <th>1319</th>\n",
       "      <td>13</td>\n",
       "      <td>11</td>\n",
       "      <td>15.773333</td>\n",
       "      <td>8.6</td>\n",
       "      <td>0</td>\n",
       "      <td>0</td>\n",
       "      <td>376</td>\n",
       "      <td>0</td>\n",
       "      <td>74.619481</td>\n",
       "    </tr>\n",
       "    <tr>\n",
       "      <th>1320</th>\n",
       "      <td>23</td>\n",
       "      <td>12</td>\n",
       "      <td>37.030000</td>\n",
       "      <td>4.3</td>\n",
       "      <td>0</td>\n",
       "      <td>0</td>\n",
       "      <td>179</td>\n",
       "      <td>0</td>\n",
       "      <td>68.841466</td>\n",
       "    </tr>\n",
       "    <tr>\n",
       "      <th>1322</th>\n",
       "      <td>68</td>\n",
       "      <td>38</td>\n",
       "      <td>76.160000</td>\n",
       "      <td>4.0</td>\n",
       "      <td>1</td>\n",
       "      <td>0</td>\n",
       "      <td>96</td>\n",
       "      <td>36</td>\n",
       "      <td>68.169552</td>\n",
       "    </tr>\n",
       "    <tr>\n",
       "      <th>1324</th>\n",
       "      <td>43</td>\n",
       "      <td>23</td>\n",
       "      <td>43.000000</td>\n",
       "      <td>7.3</td>\n",
       "      <td>0</td>\n",
       "      <td>0</td>\n",
       "      <td>207</td>\n",
       "      <td>1</td>\n",
       "      <td>64.520857</td>\n",
       "    </tr>\n",
       "  </tbody>\n",
       "</table>\n",
       "<p>938 rows × 9 columns</p>\n",
       "</div>"
      ],
      "text/plain": [
       "      review_length  number_of_keywords  word_diversity  word_complexity  \\\n",
       "0               279                 145       60.161175              7.7   \n",
       "1                85                  37       62.242682              7.5   \n",
       "2               101                  46       46.116319             11.4   \n",
       "3                52                  25       84.124444             11.3   \n",
       "4                66                  34       66.000000              5.4   \n",
       "...             ...                 ...             ...              ...   \n",
       "1318            135                  70       66.010554              7.6   \n",
       "1319             13                  11       15.773333              8.6   \n",
       "1320             23                  12       37.030000              4.3   \n",
       "1322             68                  38       76.160000              4.0   \n",
       "1324             43                  23       43.000000              7.3   \n",
       "\n",
       "      has_image  has_emoji  timing  count_helpful  creativity  \n",
       "0             0          0     633              3   72.495699  \n",
       "1             1          0     666              0   66.882998  \n",
       "2             0          0     652              2   70.648072  \n",
       "3             0          0     672              0   52.908236  \n",
       "4             0          0     659              0   68.367608  \n",
       "...         ...        ...     ...            ...         ...  \n",
       "1318          0          0     162              7   55.252269  \n",
       "1319          0          0     376              0   74.619481  \n",
       "1320          0          0     179              0   68.841466  \n",
       "1322          1          0      96             36   68.169552  \n",
       "1324          0          0     207              1   64.520857  \n",
       "\n",
       "[938 rows x 9 columns]"
      ]
     },
     "execution_count": 6,
     "metadata": {},
     "output_type": "execute_result"
    }
   ],
   "source": [
    "# remove rows that have NA value \n",
    "df_no_NA = df.dropna()\n",
    "df_no_NA"
   ]
  },
  {
   "cell_type": "code",
   "execution_count": 7,
   "id": "47aa2c83",
   "metadata": {},
   "outputs": [
    {
     "data": {
      "text/html": [
       "<div>\n",
       "<style scoped>\n",
       "    .dataframe tbody tr th:only-of-type {\n",
       "        vertical-align: middle;\n",
       "    }\n",
       "\n",
       "    .dataframe tbody tr th {\n",
       "        vertical-align: top;\n",
       "    }\n",
       "\n",
       "    .dataframe thead th {\n",
       "        text-align: right;\n",
       "    }\n",
       "</style>\n",
       "<table border=\"1\" class=\"dataframe\">\n",
       "  <thead>\n",
       "    <tr style=\"text-align: right;\">\n",
       "      <th></th>\n",
       "      <th>review_length</th>\n",
       "      <th>number_of_keywords</th>\n",
       "      <th>word_diversity</th>\n",
       "      <th>word_complexity</th>\n",
       "      <th>has_image</th>\n",
       "      <th>has_emoji</th>\n",
       "      <th>timing</th>\n",
       "      <th>count_helpful</th>\n",
       "      <th>creativity</th>\n",
       "    </tr>\n",
       "  </thead>\n",
       "  <tbody>\n",
       "    <tr>\n",
       "      <th>0</th>\n",
       "      <td>279</td>\n",
       "      <td>145</td>\n",
       "      <td>60.161175</td>\n",
       "      <td>7.7</td>\n",
       "      <td>0</td>\n",
       "      <td>0</td>\n",
       "      <td>633</td>\n",
       "      <td>3</td>\n",
       "      <td>72.495699</td>\n",
       "    </tr>\n",
       "    <tr>\n",
       "      <th>1</th>\n",
       "      <td>85</td>\n",
       "      <td>37</td>\n",
       "      <td>62.242682</td>\n",
       "      <td>7.5</td>\n",
       "      <td>1</td>\n",
       "      <td>0</td>\n",
       "      <td>666</td>\n",
       "      <td>0</td>\n",
       "      <td>66.882998</td>\n",
       "    </tr>\n",
       "    <tr>\n",
       "      <th>2</th>\n",
       "      <td>101</td>\n",
       "      <td>46</td>\n",
       "      <td>46.116319</td>\n",
       "      <td>11.4</td>\n",
       "      <td>0</td>\n",
       "      <td>0</td>\n",
       "      <td>652</td>\n",
       "      <td>2</td>\n",
       "      <td>70.648072</td>\n",
       "    </tr>\n",
       "    <tr>\n",
       "      <th>3</th>\n",
       "      <td>52</td>\n",
       "      <td>25</td>\n",
       "      <td>84.124444</td>\n",
       "      <td>11.3</td>\n",
       "      <td>0</td>\n",
       "      <td>0</td>\n",
       "      <td>672</td>\n",
       "      <td>0</td>\n",
       "      <td>52.908236</td>\n",
       "    </tr>\n",
       "    <tr>\n",
       "      <th>4</th>\n",
       "      <td>66</td>\n",
       "      <td>34</td>\n",
       "      <td>66.000000</td>\n",
       "      <td>5.4</td>\n",
       "      <td>0</td>\n",
       "      <td>0</td>\n",
       "      <td>659</td>\n",
       "      <td>0</td>\n",
       "      <td>68.367608</td>\n",
       "    </tr>\n",
       "    <tr>\n",
       "      <th>...</th>\n",
       "      <td>...</td>\n",
       "      <td>...</td>\n",
       "      <td>...</td>\n",
       "      <td>...</td>\n",
       "      <td>...</td>\n",
       "      <td>...</td>\n",
       "      <td>...</td>\n",
       "      <td>...</td>\n",
       "      <td>...</td>\n",
       "    </tr>\n",
       "    <tr>\n",
       "      <th>1321</th>\n",
       "      <td>7</td>\n",
       "      <td>5</td>\n",
       "      <td>0.000000</td>\n",
       "      <td>2.3</td>\n",
       "      <td>0</td>\n",
       "      <td>0</td>\n",
       "      <td>391</td>\n",
       "      <td>0</td>\n",
       "      <td>68.107870</td>\n",
       "    </tr>\n",
       "    <tr>\n",
       "      <th>1322</th>\n",
       "      <td>68</td>\n",
       "      <td>38</td>\n",
       "      <td>76.160000</td>\n",
       "      <td>4.0</td>\n",
       "      <td>1</td>\n",
       "      <td>0</td>\n",
       "      <td>96</td>\n",
       "      <td>36</td>\n",
       "      <td>68.169552</td>\n",
       "    </tr>\n",
       "    <tr>\n",
       "      <th>1323</th>\n",
       "      <td>5</td>\n",
       "      <td>5</td>\n",
       "      <td>7.000000</td>\n",
       "      <td>11.2</td>\n",
       "      <td>0</td>\n",
       "      <td>0</td>\n",
       "      <td>394</td>\n",
       "      <td>0</td>\n",
       "      <td>68.107870</td>\n",
       "    </tr>\n",
       "    <tr>\n",
       "      <th>1324</th>\n",
       "      <td>43</td>\n",
       "      <td>23</td>\n",
       "      <td>43.000000</td>\n",
       "      <td>7.3</td>\n",
       "      <td>0</td>\n",
       "      <td>0</td>\n",
       "      <td>207</td>\n",
       "      <td>1</td>\n",
       "      <td>64.520857</td>\n",
       "    </tr>\n",
       "    <tr>\n",
       "      <th>1325</th>\n",
       "      <td>5</td>\n",
       "      <td>4</td>\n",
       "      <td>0.000000</td>\n",
       "      <td>7.4</td>\n",
       "      <td>0</td>\n",
       "      <td>0</td>\n",
       "      <td>388</td>\n",
       "      <td>0</td>\n",
       "      <td>68.107870</td>\n",
       "    </tr>\n",
       "  </tbody>\n",
       "</table>\n",
       "<p>1326 rows × 9 columns</p>\n",
       "</div>"
      ],
      "text/plain": [
       "      review_length  number_of_keywords  word_diversity  word_complexity  \\\n",
       "0               279                 145       60.161175              7.7   \n",
       "1                85                  37       62.242682              7.5   \n",
       "2               101                  46       46.116319             11.4   \n",
       "3                52                  25       84.124444             11.3   \n",
       "4                66                  34       66.000000              5.4   \n",
       "...             ...                 ...             ...              ...   \n",
       "1321              7                   5        0.000000              2.3   \n",
       "1322             68                  38       76.160000              4.0   \n",
       "1323              5                   5        7.000000             11.2   \n",
       "1324             43                  23       43.000000              7.3   \n",
       "1325              5                   4        0.000000              7.4   \n",
       "\n",
       "      has_image  has_emoji  timing  count_helpful  creativity  \n",
       "0             0          0     633              3   72.495699  \n",
       "1             1          0     666              0   66.882998  \n",
       "2             0          0     652              2   70.648072  \n",
       "3             0          0     672              0   52.908236  \n",
       "4             0          0     659              0   68.367608  \n",
       "...         ...        ...     ...            ...         ...  \n",
       "1321          0          0     391              0   68.107870  \n",
       "1322          1          0      96             36   68.169552  \n",
       "1323          0          0     394              0   68.107870  \n",
       "1324          0          0     207              1   64.520857  \n",
       "1325          0          0     388              0   68.107870  \n",
       "\n",
       "[1326 rows x 9 columns]"
      ]
     },
     "execution_count": 7,
     "metadata": {},
     "output_type": "execute_result"
    }
   ],
   "source": [
    "df_replaced_with_mean = df.copy() \n",
    "df_replaced_with_mean[\"creativity\"] = df_replaced_with_mean[\"creativity\"].fillna(df[\"creativity\"].mean()) \n",
    "df_replaced_with_mean"
   ]
  },
  {
   "cell_type": "code",
   "execution_count": 8,
   "id": "3a810b11",
   "metadata": {},
   "outputs": [
    {
     "data": {
      "text/html": [
       "<div>\n",
       "<style scoped>\n",
       "    .dataframe tbody tr th:only-of-type {\n",
       "        vertical-align: middle;\n",
       "    }\n",
       "\n",
       "    .dataframe tbody tr th {\n",
       "        vertical-align: top;\n",
       "    }\n",
       "\n",
       "    .dataframe thead th {\n",
       "        text-align: right;\n",
       "    }\n",
       "</style>\n",
       "<table border=\"1\" class=\"dataframe\">\n",
       "  <thead>\n",
       "    <tr style=\"text-align: right;\">\n",
       "      <th></th>\n",
       "      <th>review_length</th>\n",
       "      <th>number_of_keywords</th>\n",
       "      <th>word_diversity</th>\n",
       "      <th>word_complexity</th>\n",
       "      <th>has_image</th>\n",
       "      <th>has_emoji</th>\n",
       "      <th>timing</th>\n",
       "      <th>count_helpful</th>\n",
       "      <th>creativity</th>\n",
       "    </tr>\n",
       "  </thead>\n",
       "  <tbody>\n",
       "    <tr>\n",
       "      <th>0</th>\n",
       "      <td>279</td>\n",
       "      <td>145</td>\n",
       "      <td>60.161175</td>\n",
       "      <td>7.7</td>\n",
       "      <td>0</td>\n",
       "      <td>0</td>\n",
       "      <td>633</td>\n",
       "      <td>3</td>\n",
       "      <td>72.495699</td>\n",
       "    </tr>\n",
       "    <tr>\n",
       "      <th>1</th>\n",
       "      <td>85</td>\n",
       "      <td>37</td>\n",
       "      <td>62.242682</td>\n",
       "      <td>7.5</td>\n",
       "      <td>1</td>\n",
       "      <td>0</td>\n",
       "      <td>666</td>\n",
       "      <td>0</td>\n",
       "      <td>66.882998</td>\n",
       "    </tr>\n",
       "    <tr>\n",
       "      <th>2</th>\n",
       "      <td>101</td>\n",
       "      <td>46</td>\n",
       "      <td>46.116319</td>\n",
       "      <td>11.4</td>\n",
       "      <td>0</td>\n",
       "      <td>0</td>\n",
       "      <td>652</td>\n",
       "      <td>2</td>\n",
       "      <td>70.648072</td>\n",
       "    </tr>\n",
       "    <tr>\n",
       "      <th>3</th>\n",
       "      <td>52</td>\n",
       "      <td>25</td>\n",
       "      <td>84.124444</td>\n",
       "      <td>11.3</td>\n",
       "      <td>0</td>\n",
       "      <td>0</td>\n",
       "      <td>672</td>\n",
       "      <td>0</td>\n",
       "      <td>52.908236</td>\n",
       "    </tr>\n",
       "    <tr>\n",
       "      <th>4</th>\n",
       "      <td>66</td>\n",
       "      <td>34</td>\n",
       "      <td>66.000000</td>\n",
       "      <td>5.4</td>\n",
       "      <td>0</td>\n",
       "      <td>0</td>\n",
       "      <td>659</td>\n",
       "      <td>0</td>\n",
       "      <td>68.367608</td>\n",
       "    </tr>\n",
       "    <tr>\n",
       "      <th>...</th>\n",
       "      <td>...</td>\n",
       "      <td>...</td>\n",
       "      <td>...</td>\n",
       "      <td>...</td>\n",
       "      <td>...</td>\n",
       "      <td>...</td>\n",
       "      <td>...</td>\n",
       "      <td>...</td>\n",
       "      <td>...</td>\n",
       "    </tr>\n",
       "    <tr>\n",
       "      <th>1321</th>\n",
       "      <td>7</td>\n",
       "      <td>5</td>\n",
       "      <td>0.000000</td>\n",
       "      <td>2.3</td>\n",
       "      <td>0</td>\n",
       "      <td>0</td>\n",
       "      <td>391</td>\n",
       "      <td>0</td>\n",
       "      <td>29.184772</td>\n",
       "    </tr>\n",
       "    <tr>\n",
       "      <th>1322</th>\n",
       "      <td>68</td>\n",
       "      <td>38</td>\n",
       "      <td>76.160000</td>\n",
       "      <td>4.0</td>\n",
       "      <td>1</td>\n",
       "      <td>0</td>\n",
       "      <td>96</td>\n",
       "      <td>36</td>\n",
       "      <td>68.169552</td>\n",
       "    </tr>\n",
       "    <tr>\n",
       "      <th>1323</th>\n",
       "      <td>5</td>\n",
       "      <td>5</td>\n",
       "      <td>7.000000</td>\n",
       "      <td>11.2</td>\n",
       "      <td>0</td>\n",
       "      <td>0</td>\n",
       "      <td>394</td>\n",
       "      <td>0</td>\n",
       "      <td>29.184772</td>\n",
       "    </tr>\n",
       "    <tr>\n",
       "      <th>1324</th>\n",
       "      <td>43</td>\n",
       "      <td>23</td>\n",
       "      <td>43.000000</td>\n",
       "      <td>7.3</td>\n",
       "      <td>0</td>\n",
       "      <td>0</td>\n",
       "      <td>207</td>\n",
       "      <td>1</td>\n",
       "      <td>64.520857</td>\n",
       "    </tr>\n",
       "    <tr>\n",
       "      <th>1325</th>\n",
       "      <td>5</td>\n",
       "      <td>4</td>\n",
       "      <td>0.000000</td>\n",
       "      <td>7.4</td>\n",
       "      <td>0</td>\n",
       "      <td>0</td>\n",
       "      <td>388</td>\n",
       "      <td>0</td>\n",
       "      <td>29.184772</td>\n",
       "    </tr>\n",
       "  </tbody>\n",
       "</table>\n",
       "<p>1326 rows × 9 columns</p>\n",
       "</div>"
      ],
      "text/plain": [
       "      review_length  number_of_keywords  word_diversity  word_complexity  \\\n",
       "0               279                 145       60.161175              7.7   \n",
       "1                85                  37       62.242682              7.5   \n",
       "2               101                  46       46.116319             11.4   \n",
       "3                52                  25       84.124444             11.3   \n",
       "4                66                  34       66.000000              5.4   \n",
       "...             ...                 ...             ...              ...   \n",
       "1321              7                   5        0.000000              2.3   \n",
       "1322             68                  38       76.160000              4.0   \n",
       "1323              5                   5        7.000000             11.2   \n",
       "1324             43                  23       43.000000              7.3   \n",
       "1325              5                   4        0.000000              7.4   \n",
       "\n",
       "      has_image  has_emoji  timing  count_helpful  creativity  \n",
       "0             0          0     633              3   72.495699  \n",
       "1             1          0     666              0   66.882998  \n",
       "2             0          0     652              2   70.648072  \n",
       "3             0          0     672              0   52.908236  \n",
       "4             0          0     659              0   68.367608  \n",
       "...         ...        ...     ...            ...         ...  \n",
       "1321          0          0     391              0   29.184772  \n",
       "1322          1          0      96             36   68.169552  \n",
       "1323          0          0     394              0   29.184772  \n",
       "1324          0          0     207              1   64.520857  \n",
       "1325          0          0     388              0   29.184772  \n",
       "\n",
       "[1326 rows x 9 columns]"
      ]
     },
     "execution_count": 8,
     "metadata": {},
     "output_type": "execute_result"
    }
   ],
   "source": [
    "# The min of the creativity measure, divergent thinking score, is 36.18\n",
    "min_creativity = df[\"creativity\"].min(skipna=True)\n",
    "sd_creativity = df[\"creativity\"].std(skipna=True)\n",
    "df_min_minus_sd = df.copy()\n",
    "# Fillin the NA with the value even less than the 36.18, this would also sort of serve as a hyperparameter\n",
    "df_min_minus_sd[\"creativity\"] = df_min_minus_sd[\"creativity\"].fillna(min_creativity-sd_creativity)\n",
    "df_min_minus_sd"
   ]
  },
  {
   "cell_type": "code",
   "execution_count": 9,
   "id": "fc21d54b",
   "metadata": {},
   "outputs": [
    {
     "data": {
      "image/png": "[encoded data removed]",
      "text/plain": [
       "<Figure size 432x288 with 2 Axes>"
      ]
     },
     "metadata": {
      "needs_background": "light"
     },
     "output_type": "display_data"
    }
   ],
   "source": [
    "# Check correlation between columns \n",
    "correlation_matrix = df_no_NA.corr()\n",
    "\n",
    "# print the correlation matrix\n",
    "sns.heatmap(correlation_matrix, annot=True, cmap = \"coolwarm\")\n",
    "\n",
    "plt.show()"
   ]
  },
  {
   "cell_type": "code",
   "execution_count": 10,
   "id": "c550938b",
   "metadata": {},
   "outputs": [
    {
     "data": {
      "text/html": [
       "<div>\n",
       "<style scoped>\n",
       "    .dataframe tbody tr th:only-of-type {\n",
       "        vertical-align: middle;\n",
       "    }\n",
       "\n",
       "    .dataframe tbody tr th {\n",
       "        vertical-align: top;\n",
       "    }\n",
       "\n",
       "    .dataframe thead th {\n",
       "        text-align: right;\n",
       "    }\n",
       "</style>\n",
       "<table border=\"1\" class=\"dataframe\">\n",
       "  <thead>\n",
       "    <tr style=\"text-align: right;\">\n",
       "      <th></th>\n",
       "      <th>number_of_keywords</th>\n",
       "      <th>word_diversity</th>\n",
       "      <th>word_complexity</th>\n",
       "      <th>has_image</th>\n",
       "      <th>has_emoji</th>\n",
       "      <th>timing</th>\n",
       "      <th>count_helpful</th>\n",
       "      <th>creativity</th>\n",
       "    </tr>\n",
       "  </thead>\n",
       "  <tbody>\n",
       "    <tr>\n",
       "      <th>0</th>\n",
       "      <td>145</td>\n",
       "      <td>60.161175</td>\n",
       "      <td>7.7</td>\n",
       "      <td>0</td>\n",
       "      <td>0</td>\n",
       "      <td>633</td>\n",
       "      <td>3</td>\n",
       "      <td>72.495699</td>\n",
       "    </tr>\n",
       "    <tr>\n",
       "      <th>1</th>\n",
       "      <td>37</td>\n",
       "      <td>62.242682</td>\n",
       "      <td>7.5</td>\n",
       "      <td>1</td>\n",
       "      <td>0</td>\n",
       "      <td>666</td>\n",
       "      <td>0</td>\n",
       "      <td>66.882998</td>\n",
       "    </tr>\n",
       "    <tr>\n",
       "      <th>2</th>\n",
       "      <td>46</td>\n",
       "      <td>46.116319</td>\n",
       "      <td>11.4</td>\n",
       "      <td>0</td>\n",
       "      <td>0</td>\n",
       "      <td>652</td>\n",
       "      <td>2</td>\n",
       "      <td>70.648072</td>\n",
       "    </tr>\n",
       "    <tr>\n",
       "      <th>3</th>\n",
       "      <td>25</td>\n",
       "      <td>84.124444</td>\n",
       "      <td>11.3</td>\n",
       "      <td>0</td>\n",
       "      <td>0</td>\n",
       "      <td>672</td>\n",
       "      <td>0</td>\n",
       "      <td>52.908236</td>\n",
       "    </tr>\n",
       "    <tr>\n",
       "      <th>4</th>\n",
       "      <td>34</td>\n",
       "      <td>66.000000</td>\n",
       "      <td>5.4</td>\n",
       "      <td>0</td>\n",
       "      <td>0</td>\n",
       "      <td>659</td>\n",
       "      <td>0</td>\n",
       "      <td>68.367608</td>\n",
       "    </tr>\n",
       "    <tr>\n",
       "      <th>...</th>\n",
       "      <td>...</td>\n",
       "      <td>...</td>\n",
       "      <td>...</td>\n",
       "      <td>...</td>\n",
       "      <td>...</td>\n",
       "      <td>...</td>\n",
       "      <td>...</td>\n",
       "      <td>...</td>\n",
       "    </tr>\n",
       "    <tr>\n",
       "      <th>1321</th>\n",
       "      <td>5</td>\n",
       "      <td>0.000000</td>\n",
       "      <td>2.3</td>\n",
       "      <td>0</td>\n",
       "      <td>0</td>\n",
       "      <td>391</td>\n",
       "      <td>0</td>\n",
       "      <td>29.184772</td>\n",
       "    </tr>\n",
       "    <tr>\n",
       "      <th>1322</th>\n",
       "      <td>38</td>\n",
       "      <td>76.160000</td>\n",
       "      <td>4.0</td>\n",
       "      <td>1</td>\n",
       "      <td>0</td>\n",
       "      <td>96</td>\n",
       "      <td>36</td>\n",
       "      <td>68.169552</td>\n",
       "    </tr>\n",
       "    <tr>\n",
       "      <th>1323</th>\n",
       "      <td>5</td>\n",
       "      <td>7.000000</td>\n",
       "      <td>11.2</td>\n",
       "      <td>0</td>\n",
       "      <td>0</td>\n",
       "      <td>394</td>\n",
       "      <td>0</td>\n",
       "      <td>29.184772</td>\n",
       "    </tr>\n",
       "    <tr>\n",
       "      <th>1324</th>\n",
       "      <td>23</td>\n",
       "      <td>43.000000</td>\n",
       "      <td>7.3</td>\n",
       "      <td>0</td>\n",
       "      <td>0</td>\n",
       "      <td>207</td>\n",
       "      <td>1</td>\n",
       "      <td>64.520857</td>\n",
       "    </tr>\n",
       "    <tr>\n",
       "      <th>1325</th>\n",
       "      <td>4</td>\n",
       "      <td>0.000000</td>\n",
       "      <td>7.4</td>\n",
       "      <td>0</td>\n",
       "      <td>0</td>\n",
       "      <td>388</td>\n",
       "      <td>0</td>\n",
       "      <td>29.184772</td>\n",
       "    </tr>\n",
       "  </tbody>\n",
       "</table>\n",
       "<p>1326 rows × 8 columns</p>\n",
       "</div>"
      ],
      "text/plain": [
       "      number_of_keywords  word_diversity  word_complexity  has_image  \\\n",
       "0                    145       60.161175              7.7          0   \n",
       "1                     37       62.242682              7.5          1   \n",
       "2                     46       46.116319             11.4          0   \n",
       "3                     25       84.124444             11.3          0   \n",
       "4                     34       66.000000              5.4          0   \n",
       "...                  ...             ...              ...        ...   \n",
       "1321                   5        0.000000              2.3          0   \n",
       "1322                  38       76.160000              4.0          1   \n",
       "1323                   5        7.000000             11.2          0   \n",
       "1324                  23       43.000000              7.3          0   \n",
       "1325                   4        0.000000              7.4          0   \n",
       "\n",
       "      has_emoji  timing  count_helpful  creativity  \n",
       "0             0     633              3   72.495699  \n",
       "1             0     666              0   66.882998  \n",
       "2             0     652              2   70.648072  \n",
       "3             0     672              0   52.908236  \n",
       "4             0     659              0   68.367608  \n",
       "...         ...     ...            ...         ...  \n",
       "1321          0     391              0   29.184772  \n",
       "1322          0      96             36   68.169552  \n",
       "1323          0     394              0   29.184772  \n",
       "1324          0     207              1   64.520857  \n",
       "1325          0     388              0   29.184772  \n",
       "\n",
       "[1326 rows x 8 columns]"
      ]
     },
     "execution_count": 10,
     "metadata": {},
     "output_type": "execute_result"
    }
   ],
   "source": [
    "\"\"\"\n",
    "Check the effect of dropping the \"review length\" column, according to my following exploration, I know the only dataset\n",
    "that works well for all models, with significantly higher accuracy, is the dataframe with missing valure replaced with\n",
    "min-sd\n",
    "\"\"\"\n",
    "df_min_minus_sd2 = df_min_minus_sd.drop(columns = [\"review_length\"])\n",
    "df_min_minus_sd2"
   ]
  },
  {
   "cell_type": "code",
   "execution_count": 11,
   "id": "5e4b7dfd",
   "metadata": {},
   "outputs": [],
   "source": [
    "X_no_NA = df_no_NA.iloc[:, :-1]  \n",
    "y_no_NA = df_no_NA[\"creativity\"]\n",
    "x_dev_no_NA, x_test_no_NA, y_dev_no_NA, y_test_no_NA = train_test_split(X_no_NA, y_no_NA, test_size=0.2, random_state=0)\n",
    "x_train_no_NA, x_val_no_NA, y_train_no_NA, y_val_no_NA = train_test_split(x_dev_no_NA, y_dev_no_NA, test_size=0.25, random_state=0)"
   ]
  },
  {
   "cell_type": "code",
   "execution_count": 12,
   "id": "3ccbe502",
   "metadata": {},
   "outputs": [],
   "source": [
    "X_mean = df_replaced_with_mean.iloc[:, :-1]  \n",
    "y_mean = df_replaced_with_mean[\"creativity\"] \n",
    "x_dev_mean, x_test_mean, y_dev_mean, y_test_mean = train_test_split(X_mean, y_mean, test_size=0.2, random_state=0)\n",
    "x_train_mean, x_val_mean, y_train_mean, y_val_mean = train_test_split(x_dev_mean, y_dev_mean, test_size=0.25, random_state=0)"
   ]
  },
  {
   "cell_type": "code",
   "execution_count": 13,
   "id": "8c33de39",
   "metadata": {},
   "outputs": [],
   "source": [
    "X_min = df_min_minus_sd.iloc[:, :-1]  \n",
    "y_min = df_min_minus_sd[\"creativity\"]  \n",
    "x_dev_min, x_test_min, y_dev_min, y_test_min = train_test_split(X_min, y_min, test_size=0.2, random_state=0)\n",
    "x_train_min, x_val_min, y_train_min, y_val_min = train_test_split(x_dev_min, y_dev_min, test_size=0.25, random_state=0)"
   ]
  },
  {
   "cell_type": "code",
   "execution_count": 14,
   "id": "6b72c90b",
   "metadata": {},
   "outputs": [],
   "source": [
    "# Add another train test for the set of datasets that have dropped review length\n",
    "X_min2 = df_min_minus_sd2.iloc[:, :-1]  \n",
    "y_min2 = df_min_minus_sd2[\"creativity\"]  \n",
    "x_dev_min2, x_test_min2, y_dev_min2, y_test_min2 = train_test_split(X_min2, y_min2, test_size=0.2, random_state=0)\n",
    "x_train_min2, x_val_min2, y_train_min2, y_val_min2 = train_test_split(x_dev_min2, y_dev_min2, test_size=0.25, random_state=0)"
   ]
  },
  {
   "cell_type": "code",
   "execution_count": 15,
   "id": "4688403d",
   "metadata": {},
   "outputs": [],
   "source": [
    "scalar_s = StandardScaler()\n",
    "scaler_mm = MinMaxScaler()"
   ]
  },
  {
   "cell_type": "code",
   "execution_count": 16,
   "id": "93adeb29",
   "metadata": {},
   "outputs": [],
   "source": [
    "# mm_scaler_no_NA = MinMaxScaler()\n",
    "# mm_scaler_mean = MinMaxScaler()\n",
    "# mm_scaler_min = MinMaxScaler()"
   ]
  },
  {
   "cell_type": "code",
   "execution_count": 17,
   "id": "9c8c59f4",
   "metadata": {},
   "outputs": [],
   "source": [
    "# fit and transform the data\n",
    "# scaled_data_no_NA = scaler_no_NA.fit_transform(df_no_NA)\n",
    "# scaled_df_no_NA = pd.DataFrame(scaled_data_no_NA , columns=df.columns)\n",
    "# scaled_data_mean = scaler_mean.fit_transform(df_replaced_with_mean)\n",
    "# scaled_df_mean = pd.DataFrame(scaled_data_mean, columns=df.columns)\n",
    "# scaled_data_min = scaler_min.fit_transform(df_min_minus_sd)\n",
    "# scaled_df_min = pd.DataFrame(scaled_data_min , columns=df.columns)\n",
    "x_train_no_NA_s = scalar_s.fit_transform(x_train_no_NA)\n",
    "x_train_no_NA_mm = scaler_mm.fit_transform(x_train_no_NA)\n",
    "x_train_mean_s = scalar_s.fit_transform(x_train_mean)\n",
    "x_train_mean_mm = scaler_mm.fit_transform(x_train_mean)\n",
    "x_train_min_s = scalar_s.fit_transform(x_train_min)\n",
    "x_train_min_mm = scaler_mm.fit_transform(x_train_min)\n",
    "\n",
    "x_val_no_NA_s = scalar_s.transform(x_val_no_NA)\n",
    "x_val_no_NA_mm = scaler_mm.transform(x_val_no_NA)\n",
    "x_val_mean_s = scalar_s.transform(x_val_mean)\n",
    "x_val_mean_mm = scaler_mm.transform(x_val_mean)\n",
    "x_val_min_s = scalar_s.transform(x_val_min)\n",
    "x_val_min_mm = scaler_mm.transform(x_val_min)\n",
    "\n",
    "x_test_no_NA_s = scalar_s.transform(x_test_no_NA)\n",
    "x_test_no_NA_mm = scaler_mm.transform(x_test_no_NA)\n",
    "x_test_mean_s = scalar_s.transform(x_test_mean)\n",
    "x_test_mean_mm = scaler_mm.transform(x_test_mean)\n",
    "x_test_min_s = scalar_s.transform(x_test_min)\n",
    "x_test_min_mm = scaler_mm.transform(x_test_min)\n"
   ]
  },
  {
   "cell_type": "code",
   "execution_count": 18,
   "id": "08713de6",
   "metadata": {},
   "outputs": [],
   "source": [
    "# Add another scaling step for the dataset that dropped review length \n",
    "x_train_min2_s = scalar_s.fit_transform(x_train_min2)\n",
    "x_val_min2_s = scalar_s.transform(x_val_min2)\n",
    "x_test_min2_s = scalar_s.transform(x_test_min2)"
   ]
  },
  {
   "cell_type": "code",
   "execution_count": 19,
   "id": "068ce0ff",
   "metadata": {},
   "outputs": [],
   "source": [
    "# Add a column of ones \n",
    "x_train_no_NA_s = np.hstack([np.ones((x_train_no_NA_s.shape[0], 1)), x_train_no_NA_s])\n",
    "x_val_no_NA_s = np.hstack([np.ones((x_val_no_NA_s.shape[0], 1)), x_val_no_NA_s])\n",
    "x_test_no_NA_s = np.hstack([np.ones((x_test_no_NA_s.shape[0], 1)), x_test_no_NA_s])\n",
    "\n",
    "x_train_no_NA_mm = np.hstack([np.ones((x_train_no_NA_mm.shape[0], 1)), x_train_no_NA_mm])\n",
    "x_val_no_NA_mm = np.hstack([np.ones((x_val_no_NA_mm.shape[0], 1)), x_val_no_NA_mm])\n",
    "x_test_no_NA_mm = np.hstack([np.ones((x_test_no_NA_mm.shape[0], 1)), x_test_no_NA_mm])\n",
    "\n",
    "x_train_mean_s = np.hstack([np.ones((x_train_mean_s.shape[0], 1)), x_train_mean_s])\n",
    "x_val_mean_s = np.hstack([np.ones((x_val_mean_s.shape[0], 1)), x_val_mean_s])\n",
    "x_test_mean_s = np.hstack([np.ones((x_test_mean_s.shape[0], 1)), x_test_mean_s])\n",
    "\n",
    "x_train_mean_mm = np.hstack([np.ones((x_train_mean_mm.shape[0], 1)), x_train_mean_mm])\n",
    "x_val_mean_mm = np.hstack([np.ones((x_val_mean_mm.shape[0], 1)), x_val_mean_mm])\n",
    "x_test_mean_mm = np.hstack([np.ones((x_test_mean_mm.shape[0], 1)), x_test_mean_mm])\n",
    "\n",
    "x_train_min_s = np.hstack([np.ones((x_train_min_s.shape[0], 1)), x_train_min_s])\n",
    "x_val_min_s = np.hstack([np.ones((x_val_min_s.shape[0], 1)), x_val_min_s])\n",
    "x_test_min_s = np.hstack([np.ones((x_test_min_s.shape[0], 1)), x_test_min_s])\n",
    "\n",
    "x_train_min_mm = np.hstack([np.ones((x_train_min_mm.shape[0], 1)), x_train_min_mm])\n",
    "x_val_min_mm = np.hstack([np.ones((x_val_min_mm.shape[0], 1)), x_val_min_mm])\n",
    "x_test_min_mm = np.hstack([np.ones((x_test_min_mm.shape[0], 1)), x_test_min_mm])"
   ]
  },
  {
   "cell_type": "code",
   "execution_count": 20,
   "id": "7867d0af",
   "metadata": {},
   "outputs": [],
   "source": [
    "# Add another adding a column of ones step for the dataset that dropped review length \n",
    "x_train_min2_s = np.hstack([np.ones((x_train_min2_s.shape[0], 1)), x_train_min2_s])\n",
    "x_val_min2_s = np.hstack([np.ones((x_val_min2_s.shape[0], 1)), x_val_min2_s])\n",
    "x_test_min2_s = np.hstack([np.ones((x_test_min2_s.shape[0], 1)), x_test_min2_s])"
   ]
  },
  {
   "cell_type": "markdown",
   "id": "cbb46ee7",
   "metadata": {},
   "source": [
    "<font size=\"10\">Model</font>\n",
    "1. Normal Linear Regression without any parameter adjusted "
   ]
  },
  {
   "cell_type": "code",
   "execution_count": 21,
   "id": "42ccbc61",
   "metadata": {},
   "outputs": [
    {
     "data": {
      "text/html": [
       "<style>#sk-container-id-1 {color: black;background-color: white;}#sk-container-id-1 pre{padding: 0;}#sk-container-id-1 div.sk-toggleable {background-color: white;}#sk-container-id-1 label.sk-toggleable__label {cursor: pointer;display: block;width: 100%;margin-bottom: 0;padding: 0.3em;box-sizing: border-box;text-align: center;}#sk-container-id-1 label.sk-toggleable__label-arrow:before {content: \"▸\";float: left;margin-right: 0.25em;color: #696969;}#sk-container-id-1 label.sk-toggleable__label-arrow:hover:before {color: black;}#sk-container-id-1 div.sk-estimator:hover label.sk-toggleable__label-arrow:before {color: black;}#sk-container-id-1 div.sk-toggleable__content {max-height: 0;max-width: 0;overflow: hidden;text-align: left;background-color: #f0f8ff;}#sk-container-id-1 div.sk-toggleable__content pre {margin: 0.2em;color: black;border-radius: 0.25em;background-color: #f0f8ff;}#sk-container-id-1 input.sk-toggleable__control:checked~div.sk-toggleable__content {max-height: 200px;max-width: 100%;overflow: auto;}#sk-container-id-1 input.sk-toggleable__control:checked~label.sk-toggleable__label-arrow:before {content: \"▾\";}#sk-container-id-1 div.sk-estimator input.sk-toggleable__control:checked~label.sk-toggleable__label {background-color: #d4ebff;}#sk-container-id-1 div.sk-label input.sk-toggleable__control:checked~label.sk-toggleable__label {background-color: #d4ebff;}#sk-container-id-1 input.sk-hidden--visually {border: 0;clip: rect(1px 1px 1px 1px);clip: rect(1px, 1px, 1px, 1px);height: 1px;margin: -1px;overflow: hidden;padding: 0;position: absolute;width: 1px;}#sk-container-id-1 div.sk-estimator {font-family: monospace;background-color: #f0f8ff;border: 1px dotted black;border-radius: 0.25em;box-sizing: border-box;margin-bottom: 0.5em;}#sk-container-id-1 div.sk-estimator:hover {background-color: #d4ebff;}#sk-container-id-1 div.sk-parallel-item::after {content: \"\";width: 100%;border-bottom: 1px solid gray;flex-grow: 1;}#sk-container-id-1 div.sk-label:hover label.sk-toggleable__label {background-color: #d4ebff;}#sk-container-id-1 div.sk-serial::before {content: \"\";position: absolute;border-left: 1px solid gray;box-sizing: border-box;top: 0;bottom: 0;left: 50%;z-index: 0;}#sk-container-id-1 div.sk-serial {display: flex;flex-direction: column;align-items: center;background-color: white;padding-right: 0.2em;padding-left: 0.2em;position: relative;}#sk-container-id-1 div.sk-item {position: relative;z-index: 1;}#sk-container-id-1 div.sk-parallel {display: flex;align-items: stretch;justify-content: center;background-color: white;position: relative;}#sk-container-id-1 div.sk-item::before, #sk-container-id-1 div.sk-parallel-item::before {content: \"\";position: absolute;border-left: 1px solid gray;box-sizing: border-box;top: 0;bottom: 0;left: 50%;z-index: -1;}#sk-container-id-1 div.sk-parallel-item {display: flex;flex-direction: column;z-index: 1;position: relative;background-color: white;}#sk-container-id-1 div.sk-parallel-item:first-child::after {align-self: flex-end;width: 50%;}#sk-container-id-1 div.sk-parallel-item:last-child::after {align-self: flex-start;width: 50%;}#sk-container-id-1 div.sk-parallel-item:only-child::after {width: 0;}#sk-container-id-1 div.sk-dashed-wrapped {border: 1px dashed gray;margin: 0 0.4em 0.5em 0.4em;box-sizing: border-box;padding-bottom: 0.4em;background-color: white;}#sk-container-id-1 div.sk-label label {font-family: monospace;font-weight: bold;display: inline-block;line-height: 1.2em;}#sk-container-id-1 div.sk-label-container {text-align: center;}#sk-container-id-1 div.sk-container {/* jupyter's `normalize.less` sets `[hidden] { display: none; }` but bootstrap.min.css set `[hidden] { display: none !important; }` so we also need the `!important` here to be able to override the default hidden behavior on the sphinx rendered scikit-learn.org. See: https://github.com/scikit-learn/scikit-learn/issues/21755 */display: inline-block !important;position: relative;}#sk-container-id-1 div.sk-text-repr-fallback {display: none;}</style><div id=\"sk-container-id-1\" class=\"sk-top-container\"><div class=\"sk-text-repr-fallback\"><pre>LinearRegression()</pre><b>In a Jupyter environment, please rerun this cell to show the HTML representation or trust the notebook. <br />On GitHub, the HTML representation is unable to render, please try loading this page with nbviewer.org.</b></div><div class=\"sk-container\" hidden><div class=\"sk-item\"><div class=\"sk-estimator sk-toggleable\"><input class=\"sk-toggleable__control sk-hidden--visually\" id=\"sk-estimator-id-1\" type=\"checkbox\" checked><label for=\"sk-estimator-id-1\" class=\"sk-toggleable__label sk-toggleable__label-arrow\">LinearRegression</label><div class=\"sk-toggleable__content\"><pre>LinearRegression()</pre></div></div></div></div></div>"
      ],
      "text/plain": [
       "LinearRegression()"
      ]
     },
     "execution_count": 21,
     "metadata": {},
     "output_type": "execute_result"
    }
   ],
   "source": [
    "lr_no_NA_s = LinearRegression()\n",
    "lr_mean_s = LinearRegression()\n",
    "lr_min_s = LinearRegression()\n",
    "lr_no_NA_mm = LinearRegression()\n",
    "lr_mean_mm = LinearRegression()\n",
    "lr_min_mm = LinearRegression()\n",
    "\n",
    "lr_no_NA_s.fit(x_train_no_NA_s, y_train_no_NA)\n",
    "lr_mean_s.fit(x_train_mean_s, y_train_mean)\n",
    "lr_min_s.fit(x_train_min_s, y_train_min)\n",
    "\n",
    "lr_no_NA_mm.fit(x_train_no_NA_mm, y_train_no_NA)\n",
    "lr_mean_mm.fit(x_train_mean_mm, y_train_mean)\n",
    "lr_min_mm.fit(x_train_min_mm, y_train_min)\n"
   ]
  },
  {
   "cell_type": "code",
   "execution_count": 22,
   "id": "867ded35",
   "metadata": {},
   "outputs": [
    {
     "data": {
      "text/html": [
       "<style>#sk-container-id-2 {color: black;background-color: white;}#sk-container-id-2 pre{padding: 0;}#sk-container-id-2 div.sk-toggleable {background-color: white;}#sk-container-id-2 label.sk-toggleable__label {cursor: pointer;display: block;width: 100%;margin-bottom: 0;padding: 0.3em;box-sizing: border-box;text-align: center;}#sk-container-id-2 label.sk-toggleable__label-arrow:before {content: \"▸\";float: left;margin-right: 0.25em;color: #696969;}#sk-container-id-2 label.sk-toggleable__label-arrow:hover:before {color: black;}#sk-container-id-2 div.sk-estimator:hover label.sk-toggleable__label-arrow:before {color: black;}#sk-container-id-2 div.sk-toggleable__content {max-height: 0;max-width: 0;overflow: hidden;text-align: left;background-color: #f0f8ff;}#sk-container-id-2 div.sk-toggleable__content pre {margin: 0.2em;color: black;border-radius: 0.25em;background-color: #f0f8ff;}#sk-container-id-2 input.sk-toggleable__control:checked~div.sk-toggleable__content {max-height: 200px;max-width: 100%;overflow: auto;}#sk-container-id-2 input.sk-toggleable__control:checked~label.sk-toggleable__label-arrow:before {content: \"▾\";}#sk-container-id-2 div.sk-estimator input.sk-toggleable__control:checked~label.sk-toggleable__label {background-color: #d4ebff;}#sk-container-id-2 div.sk-label input.sk-toggleable__control:checked~label.sk-toggleable__label {background-color: #d4ebff;}#sk-container-id-2 input.sk-hidden--visually {border: 0;clip: rect(1px 1px 1px 1px);clip: rect(1px, 1px, 1px, 1px);height: 1px;margin: -1px;overflow: hidden;padding: 0;position: absolute;width: 1px;}#sk-container-id-2 div.sk-estimator {font-family: monospace;background-color: #f0f8ff;border: 1px dotted black;border-radius: 0.25em;box-sizing: border-box;margin-bottom: 0.5em;}#sk-container-id-2 div.sk-estimator:hover {background-color: #d4ebff;}#sk-container-id-2 div.sk-parallel-item::after {content: \"\";width: 100%;border-bottom: 1px solid gray;flex-grow: 1;}#sk-container-id-2 div.sk-label:hover label.sk-toggleable__label {background-color: #d4ebff;}#sk-container-id-2 div.sk-serial::before {content: \"\";position: absolute;border-left: 1px solid gray;box-sizing: border-box;top: 0;bottom: 0;left: 50%;z-index: 0;}#sk-container-id-2 div.sk-serial {display: flex;flex-direction: column;align-items: center;background-color: white;padding-right: 0.2em;padding-left: 0.2em;position: relative;}#sk-container-id-2 div.sk-item {position: relative;z-index: 1;}#sk-container-id-2 div.sk-parallel {display: flex;align-items: stretch;justify-content: center;background-color: white;position: relative;}#sk-container-id-2 div.sk-item::before, #sk-container-id-2 div.sk-parallel-item::before {content: \"\";position: absolute;border-left: 1px solid gray;box-sizing: border-box;top: 0;bottom: 0;left: 50%;z-index: -1;}#sk-container-id-2 div.sk-parallel-item {display: flex;flex-direction: column;z-index: 1;position: relative;background-color: white;}#sk-container-id-2 div.sk-parallel-item:first-child::after {align-self: flex-end;width: 50%;}#sk-container-id-2 div.sk-parallel-item:last-child::after {align-self: flex-start;width: 50%;}#sk-container-id-2 div.sk-parallel-item:only-child::after {width: 0;}#sk-container-id-2 div.sk-dashed-wrapped {border: 1px dashed gray;margin: 0 0.4em 0.5em 0.4em;box-sizing: border-box;padding-bottom: 0.4em;background-color: white;}#sk-container-id-2 div.sk-label label {font-family: monospace;font-weight: bold;display: inline-block;line-height: 1.2em;}#sk-container-id-2 div.sk-label-container {text-align: center;}#sk-container-id-2 div.sk-container {/* jupyter's `normalize.less` sets `[hidden] { display: none; }` but bootstrap.min.css set `[hidden] { display: none !important; }` so we also need the `!important` here to be able to override the default hidden behavior on the sphinx rendered scikit-learn.org. See: https://github.com/scikit-learn/scikit-learn/issues/21755 */display: inline-block !important;position: relative;}#sk-container-id-2 div.sk-text-repr-fallback {display: none;}</style><div id=\"sk-container-id-2\" class=\"sk-top-container\"><div class=\"sk-text-repr-fallback\"><pre>LinearRegression()</pre><b>In a Jupyter environment, please rerun this cell to show the HTML representation or trust the notebook. <br />On GitHub, the HTML representation is unable to render, please try loading this page with nbviewer.org.</b></div><div class=\"sk-container\" hidden><div class=\"sk-item\"><div class=\"sk-estimator sk-toggleable\"><input class=\"sk-toggleable__control sk-hidden--visually\" id=\"sk-estimator-id-2\" type=\"checkbox\" checked><label for=\"sk-estimator-id-2\" class=\"sk-toggleable__label sk-toggleable__label-arrow\">LinearRegression</label><div class=\"sk-toggleable__content\"><pre>LinearRegression()</pre></div></div></div></div></div>"
      ],
      "text/plain": [
       "LinearRegression()"
      ]
     },
     "execution_count": 22,
     "metadata": {},
     "output_type": "execute_result"
    }
   ],
   "source": [
    "# add another model for dataset that drops review length \n",
    "lr_min2_s = LinearRegression()\n",
    "lr_min2_s.fit(x_train_min2_s, y_train_min2)\n"
   ]
  },
  {
   "cell_type": "code",
   "execution_count": 23,
   "id": "1cf9f34b",
   "metadata": {},
   "outputs": [],
   "source": [
    "# mm_lr_no_NA = LinearRegression()\n",
    "# mm_lr_mean = LinearRegression()\n",
    "# mm_lr_min = LinearRegression()\n",
    "# mm_lr_no_NA.fit(mm_x_train_no_NA, mm_y_train_no_NA)\n",
    "# mm_lr_mean.fit(mm_x_train_mean, mm_y_train_mean)\n",
    "# mm_lr_min.fit(mm_x_train_min, mm_y_train_min)"
   ]
  },
  {
   "cell_type": "code",
   "execution_count": 24,
   "id": "a4d0ce6c",
   "metadata": {},
   "outputs": [
    {
     "name": "stdout",
     "output_type": "stream",
     "text": [
      "This is the result of linear regression model on the dataset scaled with the Standard Scaler and drop NA\n",
      "r2 Validation accuracy: -0.04765814896443388\n",
      "r2 Test accuracy: 0.03850468044615063\n",
      "mse Validation accuracy: 49.723250296478426\n",
      "mse Test accuracy: 46.154215431450346\n"
     ]
    }
   ],
   "source": [
    "print(f\"This is the result of linear regression model on the dataset scaled with the Standard Scaler and drop NA\")\n",
    "y_val_pred_no_NA_s = lr_no_NA_s.predict(x_val_no_NA_s)\n",
    "y_test_pred_no_NA_s = lr_no_NA_s.predict(x_test_no_NA_s)\n",
    "\n",
    "# calculate the accuracy of the model on the validation and test sets\n",
    "val_accuracy_r2_no_NA_s = r2_score(y_val_no_NA, y_val_pred_no_NA_s)\n",
    "test_accuracy_r2_no_NA_s = r2_score(y_test_no_NA, y_test_pred_no_NA_s)\n",
    "\n",
    "val_accuracy_mse_no_NA_s = mean_squared_error(y_val_no_NA, y_val_pred_no_NA_s)\n",
    "test_accuracy_mse_no_NA_s = mean_squared_error(y_test_no_NA, y_test_pred_no_NA_s)\n",
    "\n",
    "# print the accuracy of the model on the validation and test sets\n",
    "print('r2 Validation accuracy:', val_accuracy_r2_no_NA_s)\n",
    "print('r2 Test accuracy:', test_accuracy_r2_no_NA_s)\n",
    "print('mse Validation accuracy:', val_accuracy_mse_no_NA_s)\n",
    "print('mse Test accuracy:', test_accuracy_mse_no_NA_s)"
   ]
  },
  {
   "cell_type": "code",
   "execution_count": 25,
   "id": "e7b047db",
   "metadata": {},
   "outputs": [
    {
     "name": "stdout",
     "output_type": "stream",
     "text": [
      "This is the result of linear regression model on the dataset scaled with the MinMax Scaler and drop NA\n",
      "r2 Validation accuracy: -0.057664939919615854\n",
      "r2 Test accuracy: 0.041354932059661564\n",
      "mse Validation accuracy: 50.198185915335465\n",
      "mse Test accuracy: 46.0173961206035\n"
     ]
    }
   ],
   "source": [
    "print(f\"This is the result of linear regression model on the dataset scaled with the MinMax Scaler and drop NA\")\n",
    "y_val_pred_no_NA_mm = lr_no_NA_mm.predict(x_val_no_NA_mm)\n",
    "y_test_pred_no_NA_mm = lr_no_NA_mm.predict(x_test_no_NA_mm)\n",
    "\n",
    "# calculate the accuracy of the model on the validation and test sets\n",
    "val_accuracy_r2_no_NA_mm = r2_score(y_val_no_NA, y_val_pred_no_NA_mm)\n",
    "test_accuracy_r2_no_NA_mm = r2_score(y_test_no_NA, y_test_pred_no_NA_mm)\n",
    "\n",
    "val_accuracy_mse_no_NA_mm = mean_squared_error(y_val_no_NA, y_val_pred_no_NA_mm)\n",
    "test_accuracy_mse_no_NA_mm = mean_squared_error(y_test_no_NA, y_test_pred_no_NA_mm)\n",
    "\n",
    "# print the accuracy of the model on the validation and test sets\n",
    "print('r2 Validation accuracy:', val_accuracy_r2_no_NA_mm)\n",
    "print('r2 Test accuracy:', test_accuracy_r2_no_NA_mm)\n",
    "print('mse Validation accuracy:', val_accuracy_mse_no_NA_mm)\n",
    "print('mse Test accuracy:', test_accuracy_mse_no_NA_mm)"
   ]
  },
  {
   "cell_type": "code",
   "execution_count": 26,
   "id": "ba39048a",
   "metadata": {},
   "outputs": [
    {
     "name": "stdout",
     "output_type": "stream",
     "text": [
      "This is the result of linear regression model on the dataset scaled with the Standard Scaler and replace with mean\n",
      "r2 Validation accuracy: 0.005378983482031807\n",
      "r2 Test accuracy: -0.042711554053419976\n",
      "mse Validation accuracy: 35.20429137193299\n",
      "mse Test accuracy: 44.237544567065406\n"
     ]
    }
   ],
   "source": [
    "print(f\"This is the result of linear regression model on the dataset scaled with the Standard Scaler and replace with mean\")\n",
    "y_val_pred_mean_s = lr_mean_s.predict(x_val_mean_s)\n",
    "y_test_pred_mean_s = lr_mean_s.predict(x_test_mean_s)\n",
    "\n",
    "# calculate the accuracy of the model on the validation and test sets\n",
    "val_accuracy_r2_mean_s = r2_score(y_val_mean, y_val_pred_mean_s)\n",
    "test_accuracy_r2_mean_s = r2_score(y_test_mean, y_test_pred_mean_s)\n",
    "\n",
    "val_accuracy_mse_mean_s = mean_squared_error(y_val_mean, y_val_pred_mean_s)\n",
    "test_accuracy_mse_mean_s = mean_squared_error(y_test_mean, y_test_pred_mean_s)\n",
    "\n",
    "# print the accuracy of the model on the validation and test sets\n",
    "print('r2 Validation accuracy:', val_accuracy_r2_mean_s)\n",
    "print('r2 Test accuracy:', test_accuracy_r2_mean_s)\n",
    "print('mse Validation accuracy:', val_accuracy_mse_mean_s)\n",
    "print('mse Test accuracy:', test_accuracy_mse_mean_s)"
   ]
  },
  {
   "cell_type": "code",
   "execution_count": 27,
   "id": "c2ddb4bb",
   "metadata": {},
   "outputs": [
    {
     "name": "stdout",
     "output_type": "stream",
     "text": [
      "This is the result of linear regression model on the dataset scaled with the MinMax Scaler and replace with mean\n",
      "r2 Validation accuracy: 0.005378983482031807\n",
      "r2 Test accuracy: -0.042711554053419976\n",
      "mse Validation accuracy: 35.20429137193299\n",
      "mse Test accuracy: 44.237544567065406\n"
     ]
    }
   ],
   "source": [
    "print(f\"This is the result of linear regression model on the dataset scaled with the MinMax Scaler and replace with mean\")\n",
    "y_val_pred_mean_mm = lr_mean_mm.predict(x_val_mean_mm)\n",
    "y_test_pred_mean_mm = lr_mean_mm.predict(x_test_mean_mm)\n",
    "\n",
    "# calculate the accuracy of the model on the validation and test sets\n",
    "val_accuracy_r2_mean_mm = r2_score(y_val_mean, y_val_pred_mean_mm)\n",
    "test_accuracy_r2_mean_mm = r2_score(y_test_mean, y_test_pred_mean_mm)\n",
    "\n",
    "val_accuracy_mse_mean_mm = mean_squared_error(y_val_mean, y_val_pred_mean_mm)\n",
    "test_accuracy_mse_mean_mm = mean_squared_error(y_test_mean, y_test_pred_mean_mm)\n",
    "\n",
    "# print the accuracy of the model on the validation and test sets\n",
    "print('r2 Validation accuracy:', val_accuracy_r2_mean_mm)\n",
    "print('r2 Test accuracy:', test_accuracy_r2_mean_mm)\n",
    "print('mse Validation accuracy:', val_accuracy_mse_mean_mm)\n",
    "print('mse Test accuracy:', test_accuracy_mse_mean_mm)"
   ]
  },
  {
   "cell_type": "code",
   "execution_count": 28,
   "id": "0ec65b9c",
   "metadata": {},
   "outputs": [
    {
     "name": "stdout",
     "output_type": "stream",
     "text": [
      "This is the result of linear regression model on the dataset scaled with the Standard Scaler and replace with min - sd\n",
      "r2 Validation accuracy: 0.3976504753374863\n",
      "r2 Test accuracy: 0.40514689317416996\n",
      "mse Validation accuracy: 216.6242264520308\n",
      "mse Test accuracy: 212.71832545703697\n"
     ]
    }
   ],
   "source": [
    "print(f\"This is the result of linear regression model on the dataset scaled with the Standard Scaler and replace with min - sd\")\n",
    "y_val_pred_min_s = lr_min_s.predict(x_val_min_s)\n",
    "y_test_pred_min_s = lr_min_s.predict(x_test_min_s)\n",
    "\n",
    "# calculate the accuracy of the model on the validation and test sets\n",
    "val_accuracy_r2_min_s = r2_score(y_val_min, y_val_pred_min_s)\n",
    "test_accuracy_r2_min_s = r2_score(y_test_min, y_test_pred_min_s)\n",
    "\n",
    "val_accuracy_mse_min_s = mean_squared_error(y_val_min, y_val_pred_min_s)\n",
    "test_accuracy_mse_min_s = mean_squared_error(y_test_min, y_test_pred_min_s)\n",
    "\n",
    "# print the accuracy of the model on the validation and test sets\n",
    "print('r2 Validation accuracy:', val_accuracy_r2_min_s)\n",
    "print('r2 Test accuracy:', test_accuracy_r2_min_s)\n",
    "print('mse Validation accuracy:', val_accuracy_mse_min_s)\n",
    "print('mse Test accuracy:', test_accuracy_mse_min_s)"
   ]
  },
  {
   "cell_type": "code",
   "execution_count": 29,
   "id": "63911bb5",
   "metadata": {},
   "outputs": [
    {
     "name": "stdout",
     "output_type": "stream",
     "text": [
      "This is the result of linear regression model on the dataset scaled with the MinMax Scaler and replace with min - sd\n",
      "r2 Validation accuracy: 0.39765047533748665\n",
      "r2 Test accuracy: 0.40514689317416996\n",
      "mse Validation accuracy: 216.62422645203065\n",
      "mse Test accuracy: 212.71832545703697\n"
     ]
    }
   ],
   "source": [
    "print(f\"This is the result of linear regression model on the dataset scaled with the MinMax Scaler and replace with min - sd\")\n",
    "y_val_pred_min_mm = lr_min_mm.predict(x_val_min_mm)\n",
    "y_test_pred_min_mm = lr_min_mm.predict(x_test_min_mm)\n",
    "\n",
    "# calculate the accuracy of the model on the validation and test sets\n",
    "val_accuracy_r2_min_mm = r2_score(y_val_min, y_val_pred_min_mm)\n",
    "test_accuracy_r2_min_mm = r2_score(y_test_min, y_test_pred_min_mm)\n",
    "\n",
    "val_accuracy_mse_min_mm = mean_squared_error(y_val_min, y_val_pred_min_mm)\n",
    "test_accuracy_mse_min_mm = mean_squared_error(y_test_min, y_test_pred_min_mm)\n",
    "\n",
    "# print the accuracy of the model on the validation and test sets\n",
    "print('r2 Validation accuracy:', val_accuracy_r2_min_mm)\n",
    "print('r2 Test accuracy:', test_accuracy_r2_min_mm)\n",
    "print('mse Validation accuracy:', val_accuracy_mse_min_mm)\n",
    "print('mse Test accuracy:', test_accuracy_mse_min_mm)"
   ]
  },
  {
   "cell_type": "code",
   "execution_count": 30,
   "id": "dae933e1",
   "metadata": {},
   "outputs": [
    {
     "name": "stdout",
     "output_type": "stream",
     "text": [
      "This is the result of linear regression model on the dataset scaled with the Standard Scaler and replace with min - sd and also drop the reivew length column\n",
      "r2 Validation accuracy: 0.377321127201928\n",
      "r2 Test accuracy: 0.39379555471598626\n",
      "mse Validation accuracy: 223.93531267992606\n",
      "mse Test accuracy: 216.77754222973832\n"
     ]
    }
   ],
   "source": [
    "# Add another linear regression result for dataset that drops review length \n",
    "print(f\"This is the result of linear regression model on the dataset scaled with the Standard Scaler and replace with min - sd and also drop the reivew length column\")\n",
    "y_val_pred_min2_s = lr_min2_s.predict(x_val_min2_s)\n",
    "y_test_pred_min2_s = lr_min2_s.predict(x_test_min2_s)\n",
    "\n",
    "# calculate the accuracy of the model on the validation and test sets\n",
    "val_accuracy_r2_min2_s = r2_score(y_val_min2, y_val_pred_min2_s)\n",
    "test_accuracy_r2_min2_s = r2_score(y_test_min2, y_test_pred_min2_s)\n",
    "\n",
    "val_accuracy_mse_min2_s = mean_squared_error(y_val_min2, y_val_pred_min2_s)\n",
    "test_accuracy_mse_min2_s = mean_squared_error(y_test_min2, y_test_pred_min2_s)\n",
    "\n",
    "# print the accuracy of the model on the validation and test sets\n",
    "print('r2 Validation accuracy:', val_accuracy_r2_min2_s)\n",
    "print('r2 Test accuracy:', test_accuracy_r2_min2_s)\n",
    "print('mse Validation accuracy:', val_accuracy_mse_min2_s)\n",
    "print('mse Test accuracy:', test_accuracy_mse_min2_s)"
   ]
  },
  {
   "cell_type": "markdown",
   "id": "b62b4628",
   "metadata": {},
   "source": [
    "<font size = \"4.5\">For Linear Regression, dropping the review length does not help increase the accuracy but drop slightly </font>"
   ]
  },
  {
   "cell_type": "code",
   "execution_count": 31,
   "id": "ca36f940",
   "metadata": {},
   "outputs": [
    {
     "data": {
      "image/png": "[encoded data removed]",
      "text/plain": [
       "<Figure size 1440x1440 with 8 Axes>"
      ]
     },
     "metadata": {
      "needs_background": "light"
     },
     "output_type": "display_data"
    }
   ],
   "source": [
    "# Plot the relationship between each variable with label in the best dataset we could have \n",
    "fig, axs = plt.subplots(4,2, figsize = (20,20))\n",
    "axs[0,0].scatter(x_test_min_s[:,1], y_test_min)\n",
    "axs[0,0].set_title(\"Length of the Review VS. Creativity\")\n",
    "axs[0,0].set_xlabel(\"Review Length\")\n",
    "axs[0,0].set_ylabel(\"Creativity\")\n",
    "\n",
    "axs[0,1].scatter(x_test_min_s[:,2], y_test_min)\n",
    "axs[0,1].set_title(\"No. keywords VS. Creativity\")\n",
    "axs[0,1].set_xlabel(\"No. keywords\")\n",
    "axs[0,1].set_ylabel(\"Creativity\")\n",
    "\n",
    "axs[1,0].scatter(x_test_min_s[:,3], y_test_min)\n",
    "axs[1,0].set_title(\"Word diversity VS. Creativity\")\n",
    "axs[1,0].set_xlabel(\"Word diversity\")\n",
    "axs[1,0].set_ylabel(\"Creativity\")\n",
    "\n",
    "axs[1,1].scatter(x_test_min_s[:,4], y_test_min)\n",
    "axs[1,1].set_title(\"Word complexity VS. Creativity\")\n",
    "axs[1,1].set_xlabel(\"Word complexity\")\n",
    "axs[1,1].set_ylabel(\"Creativity\")\n",
    "\n",
    "axs[2,0].scatter(x_test_min_s[:,5], y_test_min)\n",
    "axs[2,0].set_title(\"Has image VS. Creativity\")\n",
    "axs[2,0].set_xlabel(\"Has image\")\n",
    "axs[2,0].set_ylabel(\"Creativity\")\n",
    "\n",
    "axs[2,1].scatter(x_test_min_s[:,6], y_test_min)\n",
    "axs[2,1].set_title(\"Has emoji VS. Creativity\")\n",
    "axs[2,1].set_xlabel(\"Has emoji\")\n",
    "axs[2,1].set_ylabel(\"Creativity\")\n",
    "\n",
    "axs[3,0].scatter(x_test_min_s[:,7], y_test_min)\n",
    "axs[3,0].set_title(\"Timing VS. Creativity\")\n",
    "axs[3,0].set_xlabel(\"timing\")\n",
    "axs[3,0].set_ylabel(\"Creativity\")\n",
    "\n",
    "axs[3,1].scatter(x_test_min_s[:,8], y_test_min)\n",
    "axs[3,1].set_title(\"No. helpful VS. Creativity\")\n",
    "axs[3,1].set_xlabel(\"No. helpful\")\n",
    "axs[3,1].set_ylabel(\"Creativity\")\n",
    "\n",
    "plt.show()"
   ]
  },
  {
   "cell_type": "code",
   "execution_count": 32,
   "id": "09c6fa3c",
   "metadata": {},
   "outputs": [
    {
     "name": "stdout",
     "output_type": "stream",
     "text": [
      "This is the accuracy of a normal Decision Tree Regressor with the dataset scaled with Standard Scalaer and missing value replaced with min-sd\n",
      "r2 Validation accuracy: 0.583672409351512\n",
      "r2 Test accuracy: 0.5710940753671438\n",
      "mse Validation accuracy: 149.72476707007695\n",
      "mse Test accuracy: 153.3759326791526\n"
     ]
    }
   ],
   "source": [
    "# Try the Decision tree Regressor \n",
    "print(f\"This is the accuracy of a normal Decision Tree Regressor with the dataset scaled with Standard Scalaer and missing value replaced with min-sd\")\n",
    "regressor = DecisionTreeRegressor()\n",
    "regressor.fit(x_train_min_s, y_train_min)\n",
    "\n",
    "y_val_pred2 = regressor.predict(x_val_min_s)\n",
    "y_test_pred2 = regressor.predict(x_test_min_s)\n",
    "\n",
    "# calculate the accuracy of the model on the validation and test sets\n",
    "val_accuracy_r2_tree = r2_score(y_val_min, y_val_pred2)\n",
    "test_accuracy_r2_tree = r2_score(y_test_min, y_test_pred2)\n",
    "\n",
    "val_accuracy_mse_tree = mean_squared_error(y_val_min, y_val_pred2)\n",
    "test_accuracy_mse_tree = mean_squared_error(y_test_min, y_test_pred2)\n",
    "\n",
    "# print the accuracy of the model on the validation and test sets\n",
    "print('r2 Validation accuracy:', val_accuracy_r2_tree)\n",
    "print('r2 Test accuracy:', test_accuracy_r2_tree)\n",
    "print('mse Validation accuracy:', val_accuracy_mse_tree)\n",
    "print('mse Test accuracy:', test_accuracy_mse_tree)"
   ]
  },
  {
   "cell_type": "code",
   "execution_count": 33,
   "id": "4385dde0",
   "metadata": {},
   "outputs": [
    {
     "name": "stderr",
     "output_type": "stream",
     "text": [
      "/Users/clarencestudy/opt/anaconda3/lib/python3.8/site-packages/seaborn/_decorators.py:36: FutureWarning: Pass the following variables as keyword args: x, y. From version 0.12, the only valid positional argument will be `data`, and passing other arguments without an explicit keyword will result in an error or misinterpretation.\n",
      "  warnings.warn(\n"
     ]
    },
    {
     "data": {
      "image/png": "[encoded data removed]",
      "text/plain": [
       "<Figure size 432x288 with 1 Axes>"
      ]
     },
     "metadata": {
      "needs_background": "light"
     },
     "output_type": "display_data"
    }
   ],
   "source": [
    "# fetaure importance\n",
    "feature_importance1 = zip(X_min.columns, regressor.feature_importances_[1:])\n",
    "features, importances = zip(*(sorted(list(filter(lambda x: x[1]!=0, feature_importance1)), key=lambda x: x[1], reverse=True)))\n",
    "ax = sns.barplot(list(features), list(importances))\n",
    "ax.tick_params(axis='x', rotation = 90)\n",
    "plt.show()"
   ]
  },
  {
   "cell_type": "code",
   "execution_count": 34,
   "id": "31659850",
   "metadata": {},
   "outputs": [
    {
     "name": "stdout",
     "output_type": "stream",
     "text": [
      "This is the accuracy of a normal Decision Tree Regressor with the dataset scaled with Standard Scalaer and missing value replaced with min-sd and drop the review length column\n",
      "r2 Validation accuracy: 0.5929573663344434\n",
      "r2 Test accuracy: 0.6027272535601838\n",
      "mse Validation accuracy: 146.38559846162684\n",
      "mse Test accuracy: 142.06396907520738\n"
     ]
    }
   ],
   "source": [
    "# Try the Decision tree Regressor on the dataset that drops review length\n",
    "print(f\"This is the accuracy of a normal Decision Tree Regressor with the dataset scaled with Standard Scalaer and missing value replaced with min-sd and drop the review length column\")\n",
    "regressor = DecisionTreeRegressor()\n",
    "regressor.fit(x_train_min2_s, y_train_min2)\n",
    "\n",
    "y_val_pred2 = regressor.predict(x_val_min2_s)\n",
    "y_test_pred2 = regressor.predict(x_test_min2_s)\n",
    "\n",
    "# calculate the accuracy of the model on the validation and test sets\n",
    "val_accuracy_r2_tree = r2_score(y_val_min2, y_val_pred2)\n",
    "test_accuracy_r2_tree = r2_score(y_test_min2, y_test_pred2)\n",
    "\n",
    "val_accuracy_mse_tree = mean_squared_error(y_val_min2, y_val_pred2)\n",
    "test_accuracy_mse_tree = mean_squared_error(y_test_min2, y_test_pred2)\n",
    "\n",
    "# print the accuracy of the model on the validation and test sets\n",
    "print('r2 Validation accuracy:', val_accuracy_r2_tree)\n",
    "print('r2 Test accuracy:', test_accuracy_r2_tree)\n",
    "print('mse Validation accuracy:', val_accuracy_mse_tree)\n",
    "print('mse Test accuracy:', test_accuracy_mse_tree)"
   ]
  },
  {
   "cell_type": "markdown",
   "id": "ee6ae685",
   "metadata": {},
   "source": [
    "<font size = \"4.5\">For Decision Tree, dropping the review length does not help increase the accuracy but drop slightly </font>"
   ]
  },
  {
   "cell_type": "code",
   "execution_count": 44,
   "id": "61f80201",
   "metadata": {},
   "outputs": [
    {
     "name": "stdout",
     "output_type": "stream",
     "text": [
      "This is result of Random Forest Model without tuning applied on dataset replaced with min-sd and scaled with Standard Scaler\n",
      "r2 Test accuracy: 0.7485074648824495\n",
      "mse Test accuracy: 89.9332462439573\n"
     ]
    }
   ],
   "source": [
    "# Apply Random Forest\n",
    "print(f\"This is result of Random Forest Model without tuning applied on dataset replaced with min-sd and scaled with Standard Scaler\")\n",
    "\n",
    "rf1 = RandomForestRegressor()\n",
    "rf1.fit(x_train_min_s, y_train_min)\n",
    "rf1_predict_test1 = rf1.predict(x_test_min_s)\n",
    "\n",
    "# calculate the accuracy of the model on the validation and test sets\n",
    "test_accuracy_r2_rf = r2_score(y_test_min, rf1_predict_test1)\n",
    "test_accuracy_mse_rf = mean_squared_error(y_test_min, rf1_predict_test1)\n",
    "\n",
    "# print the accuracy of the model on the validation and test sets\n",
    "print('r2 Test accuracy:', test_accuracy_r2_rf)\n",
    "print('mse Test accuracy:', test_accuracy_mse_rf)"
   ]
  },
  {
   "cell_type": "code",
   "execution_count": 45,
   "id": "2e3984a0",
   "metadata": {},
   "outputs": [],
   "source": [
    "import pickle\n",
    "\n",
    "# open a file for writing in binary mode\n",
    "with open('final_model.pickle', 'wb') as file:\n",
    "    # serialize the object and write it to the file\n",
    "    pickle.dump(rf1, file)\n",
    "\n"
   ]
  },
  {
   "cell_type": "code",
   "execution_count": 47,
   "id": "01a3ef10",
   "metadata": {},
   "outputs": [
    {
     "data": {
      "text/plain": [
       "(9,)"
      ]
     },
     "execution_count": 47,
     "metadata": {},
     "output_type": "execute_result"
    }
   ],
   "source": [
    "x_test_min_s[0].shape"
   ]
  },
  {
   "cell_type": "code",
   "execution_count": 36,
   "id": "6cbfd314",
   "metadata": {},
   "outputs": [
    {
     "name": "stdout",
     "output_type": "stream",
     "text": [
      "This is result of Random Forest Model without tuning applied on dataset replaced with min-sd and scaled with Standard Scaler and drop the review length column\n",
      "r2 Test accuracy: 0.7197839002654494\n",
      "mse Test accuracy: 100.20473763632596\n"
     ]
    }
   ],
   "source": [
    "# Apply Random Forest for the dataset that drops review length\n",
    "print(f\"This is result of Random Forest Model without tuning applied on dataset replaced with min-sd and scaled with Standard Scaler and drop the review length column\")\n",
    "\n",
    "rf1 = RandomForestRegressor()\n",
    "rf1.fit(x_train_min2_s, y_train_min2)\n",
    "rf1_predict_test1 = rf1.predict(x_test_min2_s)\n",
    "\n",
    "# calculate the accuracy of the model on the validation and test sets\n",
    "test_accuracy_r2_rf = r2_score(y_test_min2, rf1_predict_test1)\n",
    "test_accuracy_mse_rf = mean_squared_error(y_test_min2, rf1_predict_test1)\n",
    "\n",
    "# print the accuracy of the model on the validation and test sets\n",
    "print('r2 Test accuracy:', test_accuracy_r2_rf)\n",
    "print('mse Test accuracy:', test_accuracy_mse_rf)"
   ]
  },
  {
   "cell_type": "markdown",
   "id": "abb43d05",
   "metadata": {},
   "source": [
    "<font size = \"4.5\">For Random Forest, dropping the review length does not help increase the accuracy but drop slightly\n",
    "so we would still keep the review length column\n",
    "</font>"
   ]
  },
  {
   "cell_type": "code",
   "execution_count": 37,
   "id": "03b161c3",
   "metadata": {},
   "outputs": [
    {
     "data": {
      "text/plain": [
       "[0.7519617845006069,\n",
       " 0.7519971380904973,\n",
       " 0.7440592907829622,\n",
       " 0.7467523978079771,\n",
       " 0.7506886835328729,\n",
       " 0.7497636764222573]"
      ]
     },
     "execution_count": 37,
     "metadata": {},
     "output_type": "execute_result"
    }
   ],
   "source": [
    "# Random Forest Hyperparameter Tuning, let's try tuning with 2 parameters: the number of trees, the depth of the tree \n",
    "n_trees = [100, 200, 300, 400, 500, 600]\n",
    "depth_list = [4,6,8,10,12,14,16,18,20,30,40,50]\n",
    "\n",
    "# first find what is the optimized number of trees \n",
    "tree_scores = []\n",
    "for n in n_trees:\n",
    "    rf = RandomForestRegressor(n_estimators = n)\n",
    "    rf.fit(x_train_min_s, y_train_min)\n",
    "    scores = cross_val_score(rf, x_val_min_s, y_val_min, cv=10)\n",
    "    tree_scores.append(np.mean(scores))\n",
    "\n",
    "tree_scores"
   ]
  },
  {
   "cell_type": "code",
   "execution_count": 38,
   "id": "3ffd3700",
   "metadata": {},
   "outputs": [
    {
     "data": {
      "text/plain": [
       "[0.7460277905399637,\n",
       " 0.7450350854321401,\n",
       " 0.743981240025788,\n",
       " 0.7437922565628196,\n",
       " 0.7430521988090574,\n",
       " 0.7439034774544874,\n",
       " 0.7367110993554229,\n",
       " 0.7479668327268018,\n",
       " 0.7439927975932806,\n",
       " 0.7500990466320567,\n",
       " 0.7441800207796764,\n",
       " 0.7410628150338094]"
      ]
     },
     "execution_count": 38,
     "metadata": {},
     "output_type": "execute_result"
    }
   ],
   "source": [
    "depth_scores = []\n",
    "for d in depth_list:\n",
    "    rf = RandomForestRegressor(n_estimators = 100, max_depth = d)\n",
    "    rf.fit(x_train_min_s, y_train_min)\n",
    "    scores = cross_val_score(rf, x_val_min_s, y_val_min, cv=10)\n",
    "    depth_scores.append(np.mean(scores))\n",
    "\n",
    "depth_scores"
   ]
  },
  {
   "cell_type": "markdown",
   "id": "fa329e5b",
   "metadata": {},
   "source": [
    "It seems tuning the number of trees does not change significantly on accuracy, 100 trees already give good results. Also tuning through the depth is also not changing accuracy much. In other words, parameter tuning seems not able to change much on the model performance, so it might be worth exploring on data preprocessing part in the future"
   ]
  },
  {
   "cell_type": "code",
   "execution_count": 39,
   "id": "64206440",
   "metadata": {},
   "outputs": [
    {
     "data": {
      "text/plain": [
       "[0.678926973431252,\n",
       " 0.6839864906652202,\n",
       " 0.705110260008059,\n",
       " 0.7012631023929309,\n",
       " 0.696102460879902,\n",
       " 0.700941665169289,\n",
       " 0.6996590800408593,\n",
       " 0.7079477482014391,\n",
       " 0.709118072866307,\n",
       " 0.7103997065694861,\n",
       " 0.7059609494884844,\n",
       " 0.70820442794335,\n",
       " 0.7166644462167555,\n",
       " 0.7126562822013965,\n",
       " 0.706391911414066,\n",
       " 0.7095996681777959,\n",
       " 0.710666984432015,\n",
       " 0.7051530691506283,\n",
       " 0.7092356294259471,\n",
       " 0.7122344152428365,\n",
       " 0.7118233231285134,\n",
       " 0.7145173822427371,\n",
       " 0.7144430612727707,\n",
       " 0.7188835208268383,\n",
       " 0.719826016057979,\n",
       " 0.7200334717070221,\n",
       " 0.720558629962451,\n",
       " 0.7218010516192688]"
      ]
     },
     "execution_count": 39,
     "metadata": {},
     "output_type": "execute_result"
    }
   ],
   "source": [
    "n_estimators = [10, 20, 30, 40, 50] # The best n_estimator is about 20 \n",
    "learning_rate = [0.1, 0.2, 0.3, 0.4, 0.5] # The best learning rate is about 0.2 \n",
    "min_samples_split = list(range(2,30))\n",
    "\n",
    "# final_score = []\n",
    "# for i in range(len(n_estimators)):\n",
    "#     n = n_estimators[i]\n",
    "#     l = learning_rate[i]\n",
    "#     m = min_samples_split[i]\n",
    "#     gb = GradientBoostingRegressor(n_estimators = 20, learning_rate=0.2, min_samples_split=m)\n",
    "#     gb.fit(x_train_min_s, y_train_min)\n",
    "#     scores = cross_val_score(gb, x_val_min_s, y_val_min, cv=5)\n",
    "#     final_score.append(np.mean(scores))\n",
    "# final_score\n",
    "\n",
    "\n",
    "final_score = []\n",
    "for i in range(len(min_samples_split)):\n",
    "    m = min_samples_split[i]\n",
    "    gb = GradientBoostingRegressor(n_estimators = 20, learning_rate=0.2, min_samples_split=m)\n",
    "    gb.fit(x_train_min_s, y_train_min)\n",
    "    scores = cross_val_score(gb, x_val_min_s, y_val_min, cv=5)\n",
    "    final_score.append(np.mean(scores))\n",
    "final_score"
   ]
  },
  {
   "cell_type": "code",
   "execution_count": 40,
   "id": "ede9df19",
   "metadata": {},
   "outputs": [
    {
     "data": {
      "text/plain": [
       "[0.6986383094871453,\n",
       " 0.6961844300274451,\n",
       " 0.6943943247837027,\n",
       " 0.6962324594704532,\n",
       " 0.6947184398086877]"
      ]
     },
     "execution_count": 40,
     "metadata": {},
     "output_type": "execute_result"
    }
   ],
   "source": [
    "max_leaf_nodes = [100,130,150,170,190]\n",
    "max_iter = [100,120, 150, 170, 190] # find max iteration is the key hyperparaemter to tune, accuracy saturated around \n",
    "final_score = []\n",
    "for i in range(len(n_estimators)):\n",
    "    ml = max_leaf_nodes[i]\n",
    "    mi = max_iter[i]\n",
    "    hg = HistGradientBoostingRegressor(max_leaf_nodes=m, max_iter=mi)\n",
    "    hg.fit(x_train_min_s, y_train_min)\n",
    "    scores = cross_val_score(hg, x_val_min_s, y_val_min, cv=5)\n",
    "    final_score.append(np.mean(scores))\n",
    "final_score\n",
    "\n",
    "\n",
    "# final_score = []\n",
    "# for i in range(len(min_samples_split)):\n",
    "#     m = min_samples_split[i]\n",
    "#     gb = GradientBoostingRegressor(n_estimators = 20, learning_rate=0.2, min_samples_split=m)\n",
    "#     gb.fit(x_train_min_s, y_train_min)\n",
    "#     scores = cross_val_score(gb, x_val_min_s, y_val_min, cv=5)\n",
    "#     final_score.append(np.mean(scores))\n",
    "# final_score"
   ]
  },
  {
   "cell_type": "code",
   "execution_count": 41,
   "id": "b620861d",
   "metadata": {},
   "outputs": [
    {
     "data": {
      "text/plain": [
       "[0.7273218411878973,\n",
       " 0.7258046696002335,\n",
       " 0.7241295235093446,\n",
       " 0.7228638204457923,\n",
       " 0.7213243248395844]"
      ]
     },
     "execution_count": 41,
     "metadata": {},
     "output_type": "execute_result"
    }
   ],
   "source": [
    "[0.7273218411878973,\n",
    " 0.7258046696002335,\n",
    " 0.7241295235093446,\n",
    " 0.7228638204457923,\n",
    " 0.7213243248395844]"
   ]
  },
  {
   "cell_type": "markdown",
   "id": "357d1e10",
   "metadata": {},
   "source": [
    "<font size = \"4.5\">We have also explored the models of GradientBoostingRegressor and HistGradientBoostingRegressor, both with hyperparameters tuned, and it seems the max they could reach is about 72, which is still slightly less than the performance of Random Forest, so we didn't continue find an finalized optimized set of parameters, since the model itself is suboptimal</font>"
   ]
  },
  {
   "cell_type": "code",
   "execution_count": 42,
   "id": "30f3b418",
   "metadata": {},
   "outputs": [],
   "source": [
    "from xgboost import XGBRegressor"
   ]
  },
  {
   "cell_type": "code",
   "execution_count": 43,
   "id": "64870c3d",
   "metadata": {},
   "outputs": [
    {
     "data": {
      "text/plain": [
       "[0.7038698712001134,\n",
       " 0.7038698712001134,\n",
       " 0.7038698712001134,\n",
       " 0.7038698712001134,\n",
       " 0.7038698712001134,\n",
       " 0.7038698712001134,\n",
       " 0.7038698712001134,\n",
       " 0.7038698712001134,\n",
       " 0.7038698712001134,\n",
       " 0.7038698712001134,\n",
       " 0.7038698712001134,\n",
       " 0.7038698712001134,\n",
       " 0.7038698712001134,\n",
       " 0.7038698712001134,\n",
       " 0.7038698712001134]"
      ]
     },
     "execution_count": 43,
     "metadata": {},
     "output_type": "execute_result"
    }
   ],
   "source": [
    "# n_estimators = [1,3,5,7,10, 50,100, 140, 200] # The best n_estimator is about 10, when it reaches 10, any above doesn't affect much \n",
    "# learning_rate = [0.4, 0.6, 0.7, 0.8, 0.9] # The best learning rate is about 0.4, anything above that clearly leads to decrease\n",
    "max_leaf_nodes = [1,2, 3,4, 5, 10,20, 50, 100, 130,150,170,190, 200, 250] # max leaf seems do not change much when selecting \n",
    "final_score = []\n",
    "for i in range(len(max_leaf_nodes)):\n",
    "#     n = n_estimators[i]\n",
    "#     l = learning_rate[i]\n",
    "    m = max_leaf_nodes[i]\n",
    "#     xg = XGBRegressor(n_estimators=n, learning_rate=l, max_leaves=m)\n",
    "    xg = XGBRegressor(n_estimators=10, learning_rate=0.4, max_leaves=m)\n",
    "    xg.fit(x_train_min_s, y_train_min)\n",
    "    scores = cross_val_score(xg, x_val_min_s, y_val_min, cv=10)\n",
    "    final_score.append(np.mean(scores))\n",
    "max_index = final_score.index(max(final_score))\n",
    "final_score\n",
    "\n",
    "# xg1 = XGBClassifier(n_estimators = n_estimators[max_index], learning_rate = learning_rate[max_index], max_leaves = max_leaf_nodes[max_index])\n",
    "# xg1.fit(X_train, y_train)\n",
    "# print(f\"The test dataset has an accuracy of {accuracy_score(y_test, xg1.predict(X_test))}\")"
   ]
  },
  {
   "cell_type": "markdown",
   "id": "a7e134ae",
   "metadata": {},
   "source": [
    "<font size = \"4.5\">Similarly, we have also tested the XGBoost with hyperparameters tuned, and it seems the max they could reach is about 70, less than the performance of Random Forest, so we didn't continue find an finalized optimized set of parameters.</font>"
   ]
  },
  {
   "cell_type": "code",
   "execution_count": null,
   "id": "43303950",
   "metadata": {},
   "outputs": [],
   "source": []
  }
 ],
 "metadata": {
  "kernelspec": {
   "display_name": "Python 3",
   "language": "python",
   "name": "python3"
  },
  "language_info": {
   "codemirror_mode": {
    "name": "ipython",
    "version": 3
   },
   "file_extension": ".py",
   "mimetype": "text/x-python",
   "name": "python",
   "nbconvert_exporter": "python",
   "pygments_lexer": "ipython3",
   "version": "3.8.8"
  }
 },
 "nbformat": 4,
 "nbformat_minor": 5
}
